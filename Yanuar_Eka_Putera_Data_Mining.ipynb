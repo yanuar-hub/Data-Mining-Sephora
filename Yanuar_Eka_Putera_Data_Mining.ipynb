{
  "nbformat": 4,
  "nbformat_minor": 0,
  "metadata": {
    "colab": {
      "provenance": [],
      "toc_visible": true
    },
    "kernelspec": {
      "name": "python3",
      "display_name": "Python 3"
    },
    "language_info": {
      "name": "python"
    }
  },
  "cells": [
    {
      "cell_type": "markdown",
      "metadata": {
        "id": "ADMPJwyps2_l"
      },
      "source": [
        "Author:[Yanuar Eka Putera](https://linkedin.com/in/yanuarekaputera/)\\\n",
        "Dataset: [sephora_website_dataset](https://www.kaggle.com/raghadalharbi/all-products-available-on-sephora-website)"
      ]
    },
    {
      "cell_type": "markdown",
      "metadata": {
        "id": "wXXP3rIssin8"
      },
      "source": [
        "# CONNECT GOOGLE, LIBRARIES & IMPORT DATASET"
      ]
    },
    {
      "cell_type": "code",
      "metadata": {
        "id": "7Z15PazSe3Eq",
        "colab": {
          "base_uri": "https://localhost:8080/"
        },
        "outputId": "7dc8bae0-e7b8-4fc2-997b-43d2a474e22c"
      },
      "source": [
        "from google.colab import drive\n",
        "drive.mount('/content/gdrive')"
      ],
      "execution_count": null,
      "outputs": [
        {
          "output_type": "stream",
          "name": "stdout",
          "text": [
            "Drive already mounted at /content/gdrive; to attempt to forcibly remount, call drive.mount(\"/content/gdrive\", force_remount=True).\n"
          ]
        }
      ]
    },
    {
      "cell_type": "code",
      "metadata": {
        "id": "UJRe_kLXfxH7",
        "colab": {
          "base_uri": "https://localhost:8080/"
        },
        "outputId": "32142c09-5687-4d18-a54f-e330bcdaeeaf"
      },
      "source": [
        "%cd /content/gdrive/MyDrive/Colab Notebooks"
      ],
      "execution_count": null,
      "outputs": [
        {
          "output_type": "stream",
          "name": "stdout",
          "text": [
            "/content/gdrive/MyDrive/Colab Notebooks\n"
          ]
        }
      ]
    },
    {
      "cell_type": "code",
      "metadata": {
        "id": "5yz2DcV9siMm"
      },
      "source": [
        "import pandas as pd\n",
        "import numpy as np\n",
        "import matplotlib.pyplot as plt\n",
        "import seaborn as sns"
      ],
      "execution_count": null,
      "outputs": []
    },
    {
      "cell_type": "code",
      "metadata": {
        "id": "_SoHZoSIopvM"
      },
      "source": [
        "df = pd.read_csv('sephora_website_dataset.csv')"
      ],
      "execution_count": null,
      "outputs": []
    },
    {
      "cell_type": "code",
      "metadata": {
        "colab": {
          "base_uri": "https://localhost:8080/",
          "height": 655
        },
        "id": "SyUVZ4pMzPUz",
        "outputId": "8f9279cb-69ee-4dec-c8d9-d0fc7aa28a91"
      },
      "source": [
        "df.head()"
      ],
      "execution_count": null,
      "outputs": [
        {
          "output_type": "execute_result",
          "data": {
            "text/html": [
              "<div>\n",
              "<style scoped>\n",
              "    .dataframe tbody tr th:only-of-type {\n",
              "        vertical-align: middle;\n",
              "    }\n",
              "\n",
              "    .dataframe tbody tr th {\n",
              "        vertical-align: top;\n",
              "    }\n",
              "\n",
              "    .dataframe thead th {\n",
              "        text-align: right;\n",
              "    }\n",
              "</style>\n",
              "<table border=\"1\" class=\"dataframe\">\n",
              "  <thead>\n",
              "    <tr style=\"text-align: right;\">\n",
              "      <th></th>\n",
              "      <th>id</th>\n",
              "      <th>brand</th>\n",
              "      <th>category</th>\n",
              "      <th>name</th>\n",
              "      <th>size</th>\n",
              "      <th>rating</th>\n",
              "      <th>number_of_reviews</th>\n",
              "      <th>love</th>\n",
              "      <th>price</th>\n",
              "      <th>value_price</th>\n",
              "      <th>URL</th>\n",
              "      <th>MarketingFlags</th>\n",
              "      <th>MarketingFlags_content</th>\n",
              "      <th>options</th>\n",
              "      <th>details</th>\n",
              "      <th>how_to_use</th>\n",
              "      <th>ingredients</th>\n",
              "      <th>online_only</th>\n",
              "      <th>exclusive</th>\n",
              "      <th>limited_edition</th>\n",
              "      <th>limited_time_offer</th>\n",
              "    </tr>\n",
              "  </thead>\n",
              "  <tbody>\n",
              "    <tr>\n",
              "      <th>0</th>\n",
              "      <td>2218774</td>\n",
              "      <td>Acqua Di Parma</td>\n",
              "      <td>Fragrance</td>\n",
              "      <td>Blu Mediterraneo MINIATURE Set</td>\n",
              "      <td>5 x 0.16oz/5mL</td>\n",
              "      <td>4.0</td>\n",
              "      <td>4</td>\n",
              "      <td>3002</td>\n",
              "      <td>66.0</td>\n",
              "      <td>75.0</td>\n",
              "      <td>https://www.sephora.com/product/blu-mediterran...</td>\n",
              "      <td>True</td>\n",
              "      <td>online only</td>\n",
              "      <td>no options</td>\n",
              "      <td>This enchanting set comes in a specially handc...</td>\n",
              "      <td>Suggested Usage:-Fragrance is intensified by t...</td>\n",
              "      <td>Arancia di Capri Eau de Toilette: Alcohol Dena...</td>\n",
              "      <td>1</td>\n",
              "      <td>0</td>\n",
              "      <td>0</td>\n",
              "      <td>0</td>\n",
              "    </tr>\n",
              "    <tr>\n",
              "      <th>1</th>\n",
              "      <td>2044816</td>\n",
              "      <td>Acqua Di Parma</td>\n",
              "      <td>Cologne</td>\n",
              "      <td>Colonia</td>\n",
              "      <td>0.7 oz/ 20 mL</td>\n",
              "      <td>4.5</td>\n",
              "      <td>76</td>\n",
              "      <td>2700</td>\n",
              "      <td>66.0</td>\n",
              "      <td>66.0</td>\n",
              "      <td>https://www.sephora.com/product/colonia-P16360...</td>\n",
              "      <td>True</td>\n",
              "      <td>online only</td>\n",
              "      <td>- 0.7 oz/ 20 mL  Spray  - 1.7 oz/ 50 mL Eau d...</td>\n",
              "      <td>An elegant timeless scent filled with a fresh-...</td>\n",
              "      <td>no instructions</td>\n",
              "      <td>unknown</td>\n",
              "      <td>1</td>\n",
              "      <td>0</td>\n",
              "      <td>0</td>\n",
              "      <td>0</td>\n",
              "    </tr>\n",
              "    <tr>\n",
              "      <th>2</th>\n",
              "      <td>1417567</td>\n",
              "      <td>Acqua Di Parma</td>\n",
              "      <td>Perfume</td>\n",
              "      <td>Arancia di Capri</td>\n",
              "      <td>5 oz/ 148 mL</td>\n",
              "      <td>4.5</td>\n",
              "      <td>26</td>\n",
              "      <td>2600</td>\n",
              "      <td>180.0</td>\n",
              "      <td>180.0</td>\n",
              "      <td>https://www.sephora.com/product/blu-mediterran...</td>\n",
              "      <td>True</td>\n",
              "      <td>online only</td>\n",
              "      <td>- 1oz/30mL Eau de Toilette  - 2.5 oz/ 74 mL E...</td>\n",
              "      <td>Fragrance Family: Fresh Scent Type: Fresh Citr...</td>\n",
              "      <td>no instructions</td>\n",
              "      <td>Alcohol Denat.- Water- Fragrance- Limonene- Li...</td>\n",
              "      <td>1</td>\n",
              "      <td>0</td>\n",
              "      <td>0</td>\n",
              "      <td>0</td>\n",
              "    </tr>\n",
              "    <tr>\n",
              "      <th>3</th>\n",
              "      <td>1417617</td>\n",
              "      <td>Acqua Di Parma</td>\n",
              "      <td>Perfume</td>\n",
              "      <td>Mirto di Panarea</td>\n",
              "      <td>2.5 oz/ 74 mL</td>\n",
              "      <td>4.5</td>\n",
              "      <td>23</td>\n",
              "      <td>2900</td>\n",
              "      <td>120.0</td>\n",
              "      <td>120.0</td>\n",
              "      <td>https://www.sephora.com/product/blu-mediterran...</td>\n",
              "      <td>True</td>\n",
              "      <td>online only</td>\n",
              "      <td>- 1 oz/ 30 mL Eau de Toilette Spray - 2.5 oz/...</td>\n",
              "      <td>Panarea near Sicily is an an island suspended ...</td>\n",
              "      <td>no instructions</td>\n",
              "      <td>unknown</td>\n",
              "      <td>1</td>\n",
              "      <td>0</td>\n",
              "      <td>0</td>\n",
              "      <td>0</td>\n",
              "    </tr>\n",
              "    <tr>\n",
              "      <th>4</th>\n",
              "      <td>2218766</td>\n",
              "      <td>Acqua Di Parma</td>\n",
              "      <td>Fragrance</td>\n",
              "      <td>Colonia Miniature Set</td>\n",
              "      <td>5 x 0.16oz/5mL</td>\n",
              "      <td>3.5</td>\n",
              "      <td>2</td>\n",
              "      <td>943</td>\n",
              "      <td>72.0</td>\n",
              "      <td>80.0</td>\n",
              "      <td>https://www.sephora.com/product/colonia-miniat...</td>\n",
              "      <td>True</td>\n",
              "      <td>online only</td>\n",
              "      <td>no options</td>\n",
              "      <td>The Colonia Miniature Set comes in an iconic A...</td>\n",
              "      <td>Suggested Usage:-Fragrance is intensified by t...</td>\n",
              "      <td>Colonia: Alcohol Denat.- Water- Fragrance- Lim...</td>\n",
              "      <td>1</td>\n",
              "      <td>0</td>\n",
              "      <td>0</td>\n",
              "      <td>0</td>\n",
              "    </tr>\n",
              "  </tbody>\n",
              "</table>\n",
              "</div>"
            ],
            "text/plain": [
              "        id           brand  ... limited_edition limited_time_offer\n",
              "0  2218774  Acqua Di Parma  ...               0                  0\n",
              "1  2044816  Acqua Di Parma  ...               0                  0\n",
              "2  1417567  Acqua Di Parma  ...               0                  0\n",
              "3  1417617  Acqua Di Parma  ...               0                  0\n",
              "4  2218766  Acqua Di Parma  ...               0                  0\n",
              "\n",
              "[5 rows x 21 columns]"
            ]
          },
          "metadata": {},
          "execution_count": 123
        }
      ]
    },
    {
      "cell_type": "code",
      "metadata": {
        "colab": {
          "base_uri": "https://localhost:8080/",
          "height": 314
        },
        "id": "0yojDsZahBVH",
        "outputId": "02e92b9c-75e0-4380-9406-6557032f4bb6"
      },
      "source": [
        "df.describe()"
      ],
      "execution_count": null,
      "outputs": [
        {
          "output_type": "execute_result",
          "data": {
            "text/html": [
              "<div>\n",
              "<style scoped>\n",
              "    .dataframe tbody tr th:only-of-type {\n",
              "        vertical-align: middle;\n",
              "    }\n",
              "\n",
              "    .dataframe tbody tr th {\n",
              "        vertical-align: top;\n",
              "    }\n",
              "\n",
              "    .dataframe thead th {\n",
              "        text-align: right;\n",
              "    }\n",
              "</style>\n",
              "<table border=\"1\" class=\"dataframe\">\n",
              "  <thead>\n",
              "    <tr style=\"text-align: right;\">\n",
              "      <th></th>\n",
              "      <th>id</th>\n",
              "      <th>rating</th>\n",
              "      <th>number_of_reviews</th>\n",
              "      <th>love</th>\n",
              "      <th>price</th>\n",
              "      <th>value_price</th>\n",
              "      <th>online_only</th>\n",
              "      <th>exclusive</th>\n",
              "      <th>limited_edition</th>\n",
              "      <th>limited_time_offer</th>\n",
              "    </tr>\n",
              "  </thead>\n",
              "  <tbody>\n",
              "    <tr>\n",
              "      <th>count</th>\n",
              "      <td>9.168000e+03</td>\n",
              "      <td>9168.000000</td>\n",
              "      <td>9168.000000</td>\n",
              "      <td>9.168000e+03</td>\n",
              "      <td>9168.000000</td>\n",
              "      <td>9168.00000</td>\n",
              "      <td>9168.000000</td>\n",
              "      <td>9168.000000</td>\n",
              "      <td>9168.000000</td>\n",
              "      <td>9168.000000</td>\n",
              "    </tr>\n",
              "    <tr>\n",
              "      <th>mean</th>\n",
              "      <td>1.962952e+06</td>\n",
              "      <td>3.990020</td>\n",
              "      <td>282.139180</td>\n",
              "      <td>1.627859e+04</td>\n",
              "      <td>50.063237</td>\n",
              "      <td>51.82359</td>\n",
              "      <td>0.234839</td>\n",
              "      <td>0.264725</td>\n",
              "      <td>0.091841</td>\n",
              "      <td>0.000327</td>\n",
              "    </tr>\n",
              "    <tr>\n",
              "      <th>std</th>\n",
              "      <td>3.859714e+05</td>\n",
              "      <td>1.007707</td>\n",
              "      <td>890.642028</td>\n",
              "      <td>4.260651e+04</td>\n",
              "      <td>47.164989</td>\n",
              "      <td>49.45902</td>\n",
              "      <td>0.423921</td>\n",
              "      <td>0.441211</td>\n",
              "      <td>0.288817</td>\n",
              "      <td>0.018087</td>\n",
              "    </tr>\n",
              "    <tr>\n",
              "      <th>min</th>\n",
              "      <td>5.000000e+01</td>\n",
              "      <td>0.000000</td>\n",
              "      <td>0.000000</td>\n",
              "      <td>0.000000e+00</td>\n",
              "      <td>2.000000</td>\n",
              "      <td>2.00000</td>\n",
              "      <td>0.000000</td>\n",
              "      <td>0.000000</td>\n",
              "      <td>0.000000</td>\n",
              "      <td>0.000000</td>\n",
              "    </tr>\n",
              "    <tr>\n",
              "      <th>25%</th>\n",
              "      <td>1.819453e+06</td>\n",
              "      <td>4.000000</td>\n",
              "      <td>10.000000</td>\n",
              "      <td>1.600000e+03</td>\n",
              "      <td>24.000000</td>\n",
              "      <td>25.00000</td>\n",
              "      <td>0.000000</td>\n",
              "      <td>0.000000</td>\n",
              "      <td>0.000000</td>\n",
              "      <td>0.000000</td>\n",
              "    </tr>\n",
              "    <tr>\n",
              "      <th>50%</th>\n",
              "      <td>2.072354e+06</td>\n",
              "      <td>4.000000</td>\n",
              "      <td>46.000000</td>\n",
              "      <td>4.800000e+03</td>\n",
              "      <td>35.000000</td>\n",
              "      <td>35.00000</td>\n",
              "      <td>0.000000</td>\n",
              "      <td>0.000000</td>\n",
              "      <td>0.000000</td>\n",
              "      <td>0.000000</td>\n",
              "    </tr>\n",
              "    <tr>\n",
              "      <th>75%</th>\n",
              "      <td>2.230591e+06</td>\n",
              "      <td>4.500000</td>\n",
              "      <td>210.000000</td>\n",
              "      <td>1.380000e+04</td>\n",
              "      <td>59.000000</td>\n",
              "      <td>60.00000</td>\n",
              "      <td>0.000000</td>\n",
              "      <td>1.000000</td>\n",
              "      <td>0.000000</td>\n",
              "      <td>0.000000</td>\n",
              "    </tr>\n",
              "    <tr>\n",
              "      <th>max</th>\n",
              "      <td>2.359685e+06</td>\n",
              "      <td>5.000000</td>\n",
              "      <td>19000.000000</td>\n",
              "      <td>1.300000e+06</td>\n",
              "      <td>549.000000</td>\n",
              "      <td>549.00000</td>\n",
              "      <td>1.000000</td>\n",
              "      <td>1.000000</td>\n",
              "      <td>1.000000</td>\n",
              "      <td>1.000000</td>\n",
              "    </tr>\n",
              "  </tbody>\n",
              "</table>\n",
              "</div>"
            ],
            "text/plain": [
              "                 id       rating  ...  limited_edition  limited_time_offer\n",
              "count  9.168000e+03  9168.000000  ...      9168.000000         9168.000000\n",
              "mean   1.962952e+06     3.990020  ...         0.091841            0.000327\n",
              "std    3.859714e+05     1.007707  ...         0.288817            0.018087\n",
              "min    5.000000e+01     0.000000  ...         0.000000            0.000000\n",
              "25%    1.819453e+06     4.000000  ...         0.000000            0.000000\n",
              "50%    2.072354e+06     4.000000  ...         0.000000            0.000000\n",
              "75%    2.230591e+06     4.500000  ...         0.000000            0.000000\n",
              "max    2.359685e+06     5.000000  ...         1.000000            1.000000\n",
              "\n",
              "[8 rows x 10 columns]"
            ]
          },
          "metadata": {},
          "execution_count": 124
        }
      ]
    },
    {
      "cell_type": "code",
      "metadata": {
        "colab": {
          "base_uri": "https://localhost:8080/"
        },
        "id": "An3xGnhtj5fK",
        "outputId": "63347235-d58d-458e-8d4a-ca8e6f2e3cba"
      },
      "source": [
        "df.shape"
      ],
      "execution_count": null,
      "outputs": [
        {
          "output_type": "execute_result",
          "data": {
            "text/plain": [
              "(9168, 21)"
            ]
          },
          "metadata": {},
          "execution_count": 125
        }
      ]
    },
    {
      "cell_type": "markdown",
      "metadata": {
        "id": "rEzO2IcJtL-_"
      },
      "source": [
        "# Introduction\n",
        "* Sephora adalah **perusahaan make-up and cosmetics**\n",
        "* Sephora menjalankan bisnisnya menggabungkan **pembelanjaan digital menggunakan website e-commerce maupun pembelanjaan fisik melalui gerainya.**\n",
        "* **E-commerce lebih ekslusif** atau lebih ke personal branding perusahaan, biasanya produk yang dijual merupakan produk perusahaan sendiri dan kepemilikan websitenya dimiliki oleh perusahaan sendiri.\n",
        "* Namun Perusahaan sephora ini, produk yang dijualnya bukan brand sendiri saja. Ada produk brand lain yang dijual pada website maupun gerainya.  "
      ]
    },
    {
      "cell_type": "markdown",
      "metadata": {
        "id": "-rPdogyuNtx3"
      },
      "source": [
        "# Catatan\n"
      ]
    },
    {
      "cell_type": "markdown",
      "metadata": {
        "id": "DtBAJAMf0Qpc"
      },
      "source": [
        "# About The Data\n",
        "![image_2021-09-25_190039.png](data:image/png;base64,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)![image_2021-09-25_190246.png](data:image/png;base64,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)![image_2021-09-25_190554.png](data:image/png;base64,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)"
      ]
    },
    {
      "cell_type": "code",
      "metadata": {
        "colab": {
          "base_uri": "https://localhost:8080/"
        },
        "id": "KDhGJ_N_75j5",
        "outputId": "d07c8635-167f-4161-c693-b0ad89a79392"
      },
      "source": [
        "df.nunique()"
      ],
      "execution_count": null,
      "outputs": [
        {
          "output_type": "execute_result",
          "data": {
            "text/plain": [
              "id                        9115\n",
              "brand                      324\n",
              "category                   143\n",
              "name                      9106\n",
              "size                      1623\n",
              "rating                      10\n",
              "number_of_reviews          833\n",
              "love                      1683\n",
              "price                      286\n",
              "value_price                322\n",
              "URL                       9168\n",
              "MarketingFlags               2\n",
              "MarketingFlags_content      10\n",
              "options                    564\n",
              "details                   8839\n",
              "how_to_use                6497\n",
              "ingredients               6962\n",
              "online_only                  2\n",
              "exclusive                    2\n",
              "limited_edition              2\n",
              "limited_time_offer           2\n",
              "dtype: int64"
            ]
          },
          "metadata": {},
          "execution_count": 10
        }
      ]
    },
    {
      "cell_type": "markdown",
      "metadata": {
        "id": "doAZmSi2tXAG"
      },
      "source": [
        "#Business Question\n",
        "1. Produk apa yang paling banyak mendapatkan review baik dari customer?\n",
        "2. Kategori produk apa yang paling disukai oleh customer?\n",
        "3. Apakah kategori produk yang mendapatkan love atau review terbanyak merupakan produk yang harganya terjangkau ?\n",
        "4. Apakah produk yang sudah diberi strategi marketing adalah produk yang paling disukai oleh customer?\n",
        "5. Apakah produk yang ekslusif adalah produk yang mahal (diatas rata-rata)?"
      ]
    },
    {
      "cell_type": "markdown",
      "metadata": {
        "id": "oaHKEiqu2bRs"
      },
      "source": [
        "#Data Prepocessing\n",
        "1. Tipe data sudah sesuai\n",
        "2. Tidak ada missing values\n",
        "3. Tidak ada baris yang terduplikasi\n",
        "4. Transformasi data dilakukan kepada kolom MarketingFlags yang bernilai true dan false menjadi 1 dan 0 untuk melakukan korelasi.\n",
        "5. Berdasarkan analisis korelasi, terdapat hubungan sebagai berikut:\n",
        "  * **love** dengan **number_of_reviews** sebesar 75%, Jika love bertambah maka number of reviews akan bertambah juga.\n",
        "  * **MarketingFlags** dengan **exclusive** sebesar 63%, Jika MarketingFlags bertambah maka exclusive akan bertambah juga.\n",
        "  * **MarketingFlags** dengan **online_only** sebesar 58%, Jika MarketingFlags bertambah maka online_only akan bertambah juga.\n",
        "6. Hanya 2 kolom yang bertipe data number tidak memiliki outlier yaitu exclusive dan marketingFlags\n",
        "7. Berdasarkan distribusi plot pada analisis outliers terdapat informasi sebagai berikut:\n",
        "  * Jika di rata-rata banyak produk dijual dengan **price** maupun **value price** dikisaran harga 20 dollar sampai 50 dollar\n",
        "  * Jika di rata-rata banyak produk direview setidaknya kurang dari 100 customer\n",
        "  * Kebanyakan customer memberi rating bai kepada produk dikisaran 3,5 sampai 5.\n",
        "  * Nomor Id produk pada website kebanyakan dikisaran diatas 2 juta"
      ]
    },
    {
      "cell_type": "code",
      "metadata": {
        "colab": {
          "base_uri": "https://localhost:8080/"
        },
        "id": "dzJfwaEK2lN7",
        "outputId": "048553e5-4491-4fef-81b9-9eefb1d9ca05"
      },
      "source": [
        "#Handle Missmatch Data Type\n",
        "df.dtypes"
      ],
      "execution_count": null,
      "outputs": [
        {
          "output_type": "execute_result",
          "data": {
            "text/plain": [
              "id                          int64\n",
              "brand                      object\n",
              "category                   object\n",
              "name                       object\n",
              "size                       object\n",
              "rating                    float64\n",
              "number_of_reviews           int64\n",
              "love                        int64\n",
              "price                     float64\n",
              "value_price               float64\n",
              "URL                        object\n",
              "MarketingFlags               bool\n",
              "MarketingFlags_content     object\n",
              "options                    object\n",
              "details                    object\n",
              "how_to_use                 object\n",
              "ingredients                object\n",
              "online_only                 int64\n",
              "exclusive                   int64\n",
              "limited_edition             int64\n",
              "limited_time_offer          int64\n",
              "dtype: object"
            ]
          },
          "metadata": {},
          "execution_count": 126
        }
      ]
    },
    {
      "cell_type": "code",
      "metadata": {
        "colab": {
          "base_uri": "https://localhost:8080/"
        },
        "id": "j3JD99Tv2umK",
        "outputId": "ec960b90-4b41-4c05-bd7b-36ea41b6967f"
      },
      "source": [
        "#Handle Missing Values\n",
        "df.isnull().sum()"
      ],
      "execution_count": null,
      "outputs": [
        {
          "output_type": "execute_result",
          "data": {
            "text/plain": [
              "id                        0\n",
              "brand                     0\n",
              "category                  0\n",
              "name                      0\n",
              "size                      0\n",
              "rating                    0\n",
              "number_of_reviews         0\n",
              "love                      0\n",
              "price                     0\n",
              "value_price               0\n",
              "URL                       0\n",
              "MarketingFlags            0\n",
              "MarketingFlags_content    0\n",
              "options                   0\n",
              "details                   0\n",
              "how_to_use                0\n",
              "ingredients               0\n",
              "online_only               0\n",
              "exclusive                 0\n",
              "limited_edition           0\n",
              "limited_time_offer        0\n",
              "dtype: int64"
            ]
          },
          "metadata": {},
          "execution_count": 127
        }
      ]
    },
    {
      "cell_type": "code",
      "metadata": {
        "colab": {
          "base_uri": "https://localhost:8080/"
        },
        "id": "Agget8Dp3sZT",
        "outputId": "78a01251-8dc3-43c1-9c79-57cd1e55bda4"
      },
      "source": [
        "##Handle Duplicated Rows\n",
        "df.duplicated().sum()"
      ],
      "execution_count": null,
      "outputs": [
        {
          "output_type": "execute_result",
          "data": {
            "text/plain": [
              "0"
            ]
          },
          "metadata": {},
          "execution_count": 128
        }
      ]
    },
    {
      "cell_type": "code",
      "metadata": {
        "colab": {
          "base_uri": "https://localhost:8080/",
          "height": 68
        },
        "id": "8pKVLKdW3Ajr",
        "outputId": "b6fd7ffb-bb59-4f8a-8f7f-27338da7bf0b"
      },
      "source": [
        "#Handle Duplicated Rows\n",
        "df[df.duplicated()]"
      ],
      "execution_count": null,
      "outputs": [
        {
          "output_type": "execute_result",
          "data": {
            "text/html": [
              "<div>\n",
              "<style scoped>\n",
              "    .dataframe tbody tr th:only-of-type {\n",
              "        vertical-align: middle;\n",
              "    }\n",
              "\n",
              "    .dataframe tbody tr th {\n",
              "        vertical-align: top;\n",
              "    }\n",
              "\n",
              "    .dataframe thead th {\n",
              "        text-align: right;\n",
              "    }\n",
              "</style>\n",
              "<table border=\"1\" class=\"dataframe\">\n",
              "  <thead>\n",
              "    <tr style=\"text-align: right;\">\n",
              "      <th></th>\n",
              "      <th>id</th>\n",
              "      <th>brand</th>\n",
              "      <th>category</th>\n",
              "      <th>name</th>\n",
              "      <th>size</th>\n",
              "      <th>rating</th>\n",
              "      <th>number_of_reviews</th>\n",
              "      <th>love</th>\n",
              "      <th>price</th>\n",
              "      <th>value_price</th>\n",
              "      <th>URL</th>\n",
              "      <th>MarketingFlags</th>\n",
              "      <th>MarketingFlags_content</th>\n",
              "      <th>options</th>\n",
              "      <th>details</th>\n",
              "      <th>how_to_use</th>\n",
              "      <th>ingredients</th>\n",
              "      <th>online_only</th>\n",
              "      <th>exclusive</th>\n",
              "      <th>limited_edition</th>\n",
              "      <th>limited_time_offer</th>\n",
              "    </tr>\n",
              "  </thead>\n",
              "  <tbody>\n",
              "  </tbody>\n",
              "</table>\n",
              "</div>"
            ],
            "text/plain": [
              "Empty DataFrame\n",
              "Columns: [id, brand, category, name, size, rating, number_of_reviews, love, price, value_price, URL, MarketingFlags, MarketingFlags_content, options, details, how_to_use, ingredients, online_only, exclusive, limited_edition, limited_time_offer]\n",
              "Index: []"
            ]
          },
          "metadata": {},
          "execution_count": 129
        }
      ]
    },
    {
      "cell_type": "code",
      "metadata": {
        "colab": {
          "base_uri": "https://localhost:8080/",
          "height": 655
        },
        "id": "b5srzaBl49Ca",
        "outputId": "b2f26079-4b31-423f-a8d0-200f0f267c94"
      },
      "source": [
        "#Transform Data Boolean\n",
        "df_cor=df\n",
        "df_cor['MarketingFlags']=pd.get_dummies(df_cor['MarketingFlags'])\n",
        "df_cor.head()"
      ],
      "execution_count": null,
      "outputs": [
        {
          "output_type": "execute_result",
          "data": {
            "text/html": [
              "<div>\n",
              "<style scoped>\n",
              "    .dataframe tbody tr th:only-of-type {\n",
              "        vertical-align: middle;\n",
              "    }\n",
              "\n",
              "    .dataframe tbody tr th {\n",
              "        vertical-align: top;\n",
              "    }\n",
              "\n",
              "    .dataframe thead th {\n",
              "        text-align: right;\n",
              "    }\n",
              "</style>\n",
              "<table border=\"1\" class=\"dataframe\">\n",
              "  <thead>\n",
              "    <tr style=\"text-align: right;\">\n",
              "      <th></th>\n",
              "      <th>id</th>\n",
              "      <th>brand</th>\n",
              "      <th>category</th>\n",
              "      <th>name</th>\n",
              "      <th>size</th>\n",
              "      <th>rating</th>\n",
              "      <th>number_of_reviews</th>\n",
              "      <th>love</th>\n",
              "      <th>price</th>\n",
              "      <th>value_price</th>\n",
              "      <th>URL</th>\n",
              "      <th>MarketingFlags</th>\n",
              "      <th>MarketingFlags_content</th>\n",
              "      <th>options</th>\n",
              "      <th>details</th>\n",
              "      <th>how_to_use</th>\n",
              "      <th>ingredients</th>\n",
              "      <th>online_only</th>\n",
              "      <th>exclusive</th>\n",
              "      <th>limited_edition</th>\n",
              "      <th>limited_time_offer</th>\n",
              "    </tr>\n",
              "  </thead>\n",
              "  <tbody>\n",
              "    <tr>\n",
              "      <th>0</th>\n",
              "      <td>2218774</td>\n",
              "      <td>Acqua Di Parma</td>\n",
              "      <td>Fragrance</td>\n",
              "      <td>Blu Mediterraneo MINIATURE Set</td>\n",
              "      <td>5 x 0.16oz/5mL</td>\n",
              "      <td>4.0</td>\n",
              "      <td>4</td>\n",
              "      <td>3002</td>\n",
              "      <td>66.0</td>\n",
              "      <td>75.0</td>\n",
              "      <td>https://www.sephora.com/product/blu-mediterran...</td>\n",
              "      <td>0</td>\n",
              "      <td>online only</td>\n",
              "      <td>no options</td>\n",
              "      <td>This enchanting set comes in a specially handc...</td>\n",
              "      <td>Suggested Usage:-Fragrance is intensified by t...</td>\n",
              "      <td>Arancia di Capri Eau de Toilette: Alcohol Dena...</td>\n",
              "      <td>1</td>\n",
              "      <td>0</td>\n",
              "      <td>0</td>\n",
              "      <td>0</td>\n",
              "    </tr>\n",
              "    <tr>\n",
              "      <th>1</th>\n",
              "      <td>2044816</td>\n",
              "      <td>Acqua Di Parma</td>\n",
              "      <td>Cologne</td>\n",
              "      <td>Colonia</td>\n",
              "      <td>0.7 oz/ 20 mL</td>\n",
              "      <td>4.5</td>\n",
              "      <td>76</td>\n",
              "      <td>2700</td>\n",
              "      <td>66.0</td>\n",
              "      <td>66.0</td>\n",
              "      <td>https://www.sephora.com/product/colonia-P16360...</td>\n",
              "      <td>0</td>\n",
              "      <td>online only</td>\n",
              "      <td>- 0.7 oz/ 20 mL  Spray  - 1.7 oz/ 50 mL Eau d...</td>\n",
              "      <td>An elegant timeless scent filled with a fresh-...</td>\n",
              "      <td>no instructions</td>\n",
              "      <td>unknown</td>\n",
              "      <td>1</td>\n",
              "      <td>0</td>\n",
              "      <td>0</td>\n",
              "      <td>0</td>\n",
              "    </tr>\n",
              "    <tr>\n",
              "      <th>2</th>\n",
              "      <td>1417567</td>\n",
              "      <td>Acqua Di Parma</td>\n",
              "      <td>Perfume</td>\n",
              "      <td>Arancia di Capri</td>\n",
              "      <td>5 oz/ 148 mL</td>\n",
              "      <td>4.5</td>\n",
              "      <td>26</td>\n",
              "      <td>2600</td>\n",
              "      <td>180.0</td>\n",
              "      <td>180.0</td>\n",
              "      <td>https://www.sephora.com/product/blu-mediterran...</td>\n",
              "      <td>0</td>\n",
              "      <td>online only</td>\n",
              "      <td>- 1oz/30mL Eau de Toilette  - 2.5 oz/ 74 mL E...</td>\n",
              "      <td>Fragrance Family: Fresh Scent Type: Fresh Citr...</td>\n",
              "      <td>no instructions</td>\n",
              "      <td>Alcohol Denat.- Water- Fragrance- Limonene- Li...</td>\n",
              "      <td>1</td>\n",
              "      <td>0</td>\n",
              "      <td>0</td>\n",
              "      <td>0</td>\n",
              "    </tr>\n",
              "    <tr>\n",
              "      <th>3</th>\n",
              "      <td>1417617</td>\n",
              "      <td>Acqua Di Parma</td>\n",
              "      <td>Perfume</td>\n",
              "      <td>Mirto di Panarea</td>\n",
              "      <td>2.5 oz/ 74 mL</td>\n",
              "      <td>4.5</td>\n",
              "      <td>23</td>\n",
              "      <td>2900</td>\n",
              "      <td>120.0</td>\n",
              "      <td>120.0</td>\n",
              "      <td>https://www.sephora.com/product/blu-mediterran...</td>\n",
              "      <td>0</td>\n",
              "      <td>online only</td>\n",
              "      <td>- 1 oz/ 30 mL Eau de Toilette Spray - 2.5 oz/...</td>\n",
              "      <td>Panarea near Sicily is an an island suspended ...</td>\n",
              "      <td>no instructions</td>\n",
              "      <td>unknown</td>\n",
              "      <td>1</td>\n",
              "      <td>0</td>\n",
              "      <td>0</td>\n",
              "      <td>0</td>\n",
              "    </tr>\n",
              "    <tr>\n",
              "      <th>4</th>\n",
              "      <td>2218766</td>\n",
              "      <td>Acqua Di Parma</td>\n",
              "      <td>Fragrance</td>\n",
              "      <td>Colonia Miniature Set</td>\n",
              "      <td>5 x 0.16oz/5mL</td>\n",
              "      <td>3.5</td>\n",
              "      <td>2</td>\n",
              "      <td>943</td>\n",
              "      <td>72.0</td>\n",
              "      <td>80.0</td>\n",
              "      <td>https://www.sephora.com/product/colonia-miniat...</td>\n",
              "      <td>0</td>\n",
              "      <td>online only</td>\n",
              "      <td>no options</td>\n",
              "      <td>The Colonia Miniature Set comes in an iconic A...</td>\n",
              "      <td>Suggested Usage:-Fragrance is intensified by t...</td>\n",
              "      <td>Colonia: Alcohol Denat.- Water- Fragrance- Lim...</td>\n",
              "      <td>1</td>\n",
              "      <td>0</td>\n",
              "      <td>0</td>\n",
              "      <td>0</td>\n",
              "    </tr>\n",
              "  </tbody>\n",
              "</table>\n",
              "</div>"
            ],
            "text/plain": [
              "        id           brand  ... limited_edition limited_time_offer\n",
              "0  2218774  Acqua Di Parma  ...               0                  0\n",
              "1  2044816  Acqua Di Parma  ...               0                  0\n",
              "2  1417567  Acqua Di Parma  ...               0                  0\n",
              "3  1417617  Acqua Di Parma  ...               0                  0\n",
              "4  2218766  Acqua Di Parma  ...               0                  0\n",
              "\n",
              "[5 rows x 21 columns]"
            ]
          },
          "metadata": {},
          "execution_count": 130
        }
      ]
    },
    {
      "cell_type": "code",
      "metadata": {
        "colab": {
          "base_uri": "https://localhost:8080/",
          "height": 971
        },
        "id": "DJ4lQCjo4Kjq",
        "outputId": "3565d16e-b35b-4543-810d-b7be82be4f98"
      },
      "source": [
        "#Correlation Analysis\n",
        "#Mengambil nilai numerik dari setiap kolom\n",
        "df_heat=df_cor.select_dtypes(include='number')[[\"rating\",\"number_of_reviews\",\"love\",\"price\",\"value_price\",\"MarketingFlags\",\"online_only\",\"exclusive\",\"limited_edition\",\"limited_time_offer\"]].corr()\n",
        "\n",
        "#Vsualisasi data\n",
        "plt.figure(figsize=(15,15))\n",
        "sns.heatmap(df_heat, annot=True, annot_kws={\"size\": 12})"
      ],
      "execution_count": null,
      "outputs": [
        {
          "output_type": "execute_result",
          "data": {
            "text/plain": [
              "<matplotlib.axes._subplots.AxesSubplot at 0x7fd7546d6890>"
            ]
          },
          "metadata": {},
          "execution_count": 131
        },
        {
          "output_type": "display_data",
          "data": {
            "image/png": "[encoded data removed]",
            "text/plain": [
              "<Figure size 1080x1080 with 2 Axes>"
            ]
          },
          "metadata": {
            "needs_background": "light"
          }
        }
      ]
    },
    {
      "cell_type": "code",
      "metadata": {
        "colab": {
          "base_uri": "https://localhost:8080/",
          "height": 495
        },
        "id": "kLlJZjtB-wSR",
        "outputId": "9a4d0d52-e17c-49da-d855-214e2a9a5f9b"
      },
      "source": [
        "#Analisis Outlier Analysis\n",
        "\n",
        "plt.figure(figsize=(16, 8))\n",
        "\n",
        "# Create Boxplot\n",
        "df.boxplot(vert=False)\n",
        "plt.subplots_adjust(left=0.25)\n",
        "plt.show()"
      ],
      "execution_count": null,
      "outputs": [
        {
          "output_type": "display_data",
          "data": {
            "image/png": "[encoded data removed]",
            "text/plain": [
              "<Figure size 1152x576 with 1 Axes>"
            ]
          },
          "metadata": {
            "needs_background": "light"
          }
        }
      ]
    },
    {
      "cell_type": "markdown",
      "metadata": {
        "id": "NAQK87YVFA3u"
      },
      "source": [
        "## Handle Outlier"
      ]
    },
    {
      "cell_type": "code",
      "metadata": {
        "id": "5KeEg1v3A5oB"
      },
      "source": [
        "#Handle Outlier in limited_time_offer\n",
        "Q1 = df[\"limited_time_offer\"].quantile(0.25)\n",
        "Q3 = df[\"limited_time_offer\"].quantile(0.75)\n",
        "IQR = Q3 - Q1\n",
        "low_limit = Q1 - (IQR * 1.5)\n",
        "high_limit = Q3 + (IQR * 1.5)\n",
        "df = df[(df[\"limited_time_offer\"] >= low_limit) & (df[\"limited_time_offer\"] <= high_limit)]"
      ],
      "execution_count": null,
      "outputs": []
    },
    {
      "cell_type": "code",
      "metadata": {
        "colab": {
          "base_uri": "https://localhost:8080/",
          "height": 383
        },
        "id": "P9cXrhiLC6eg",
        "outputId": "84dae7b2-0d6c-4f03-a69b-372dc7a98a5c"
      },
      "source": [
        "sns.distplot(df['limited_time_offer'])"
      ],
      "execution_count": null,
      "outputs": [
        {
          "output_type": "stream",
          "name": "stderr",
          "text": [
            "/usr/local/lib/python3.7/dist-packages/seaborn/distributions.py:2619: FutureWarning: `distplot` is a deprecated function and will be removed in a future version. Please adapt your code to use either `displot` (a figure-level function with similar flexibility) or `histplot` (an axes-level function for histograms).\n",
            "  warnings.warn(msg, FutureWarning)\n",
            "/usr/local/lib/python3.7/dist-packages/seaborn/distributions.py:316: UserWarning: Dataset has 0 variance; skipping density estimate. Pass `warn_singular=False` to disable this warning.\n",
            "  warnings.warn(msg, UserWarning)\n"
          ]
        },
        {
          "output_type": "execute_result",
          "data": {
            "text/plain": [
              "<matplotlib.axes._subplots.AxesSubplot at 0x7fd740e09890>"
            ]
          },
          "metadata": {},
          "execution_count": 134
        },
        {
          "output_type": "display_data",
          "data": {
            "image/png": "[encoded data removed]",
            "text/plain": [
              "<Figure size 432x288 with 1 Axes>"
            ]
          },
          "metadata": {
            "needs_background": "light"
          }
        }
      ]
    },
    {
      "cell_type": "code",
      "metadata": {
        "id": "0DaCDafsDDEa"
      },
      "source": [
        "#Handle Outlier in limited_time_offer\n",
        "Q1 = df[\"limited_edition\"].quantile(0.25)\n",
        "Q3 = df[\"limited_edition\"].quantile(0.75)\n",
        "IQR = Q3 - Q1\n",
        "low_limit = Q1 - (IQR * 1.5)\n",
        "high_limit = Q3 + (IQR * 1.5)\n",
        "df = df[(df[\"limited_edition\"] >= low_limit) & (df[\"limited_edition\"] <= high_limit)]"
      ],
      "execution_count": null,
      "outputs": []
    },
    {
      "cell_type": "code",
      "metadata": {
        "colab": {
          "base_uri": "https://localhost:8080/",
          "height": 383
        },
        "id": "bpkmonTIDSFO",
        "outputId": "f415a4f0-681b-4b12-ab29-7ecb50df381d"
      },
      "source": [
        "sns.distplot(df['limited_edition'])"
      ],
      "execution_count": null,
      "outputs": [
        {
          "output_type": "stream",
          "name": "stderr",
          "text": [
            "/usr/local/lib/python3.7/dist-packages/seaborn/distributions.py:2619: FutureWarning: `distplot` is a deprecated function and will be removed in a future version. Please adapt your code to use either `displot` (a figure-level function with similar flexibility) or `histplot` (an axes-level function for histograms).\n",
            "  warnings.warn(msg, FutureWarning)\n",
            "/usr/local/lib/python3.7/dist-packages/seaborn/distributions.py:316: UserWarning: Dataset has 0 variance; skipping density estimate. Pass `warn_singular=False` to disable this warning.\n",
            "  warnings.warn(msg, UserWarning)\n"
          ]
        },
        {
          "output_type": "execute_result",
          "data": {
            "text/plain": [
              "<matplotlib.axes._subplots.AxesSubplot at 0x7fd74039b610>"
            ]
          },
          "metadata": {},
          "execution_count": 136
        },
        {
          "output_type": "display_data",
          "data": {
            "image/png": "[encoded data removed]",
            "text/plain": [
              "<Figure size 432x288 with 1 Axes>"
            ]
          },
          "metadata": {
            "needs_background": "light"
          }
        }
      ]
    },
    {
      "cell_type": "code",
      "metadata": {
        "id": "l3pgDdfpDwkG"
      },
      "source": [
        "#Handle Outlier in online_only\n",
        "Q1 = df[\"online_only\"].quantile(0.25)\n",
        "Q3 = df[\"online_only\"].quantile(0.75)\n",
        "IQR = Q3 - Q1\n",
        "low_limit = Q1 - (IQR * 1.5)\n",
        "high_limit = Q3 + (IQR * 1.5)\n",
        "df = df[(df[\"online_only\"] >= low_limit) & (df[\"online_only\"] <= high_limit)]"
      ],
      "execution_count": null,
      "outputs": []
    },
    {
      "cell_type": "code",
      "metadata": {
        "colab": {
          "base_uri": "https://localhost:8080/",
          "height": 383
        },
        "id": "_dhFqvGIFmB-",
        "outputId": "337b2f36-9c15-48fd-b76c-e07639313080"
      },
      "source": [
        "sns.distplot(df['online_only'])"
      ],
      "execution_count": null,
      "outputs": [
        {
          "output_type": "stream",
          "name": "stderr",
          "text": [
            "/usr/local/lib/python3.7/dist-packages/seaborn/distributions.py:2619: FutureWarning: `distplot` is a deprecated function and will be removed in a future version. Please adapt your code to use either `displot` (a figure-level function with similar flexibility) or `histplot` (an axes-level function for histograms).\n",
            "  warnings.warn(msg, FutureWarning)\n",
            "/usr/local/lib/python3.7/dist-packages/seaborn/distributions.py:316: UserWarning: Dataset has 0 variance; skipping density estimate. Pass `warn_singular=False` to disable this warning.\n",
            "  warnings.warn(msg, UserWarning)\n"
          ]
        },
        {
          "output_type": "execute_result",
          "data": {
            "text/plain": [
              "<matplotlib.axes._subplots.AxesSubplot at 0x7fd7404f3050>"
            ]
          },
          "metadata": {},
          "execution_count": 138
        },
        {
          "output_type": "display_data",
          "data": {
            "image/png": "[encoded data removed]",
            "text/plain": [
              "<Figure size 432x288 with 1 Axes>"
            ]
          },
          "metadata": {
            "needs_background": "light"
          }
        }
      ]
    },
    {
      "cell_type": "code",
      "metadata": {
        "id": "dayxMvVGFtVp"
      },
      "source": [
        "#Handle Outlier in value_price\n",
        "Q1 = df[\"value_price\"].quantile(0.25)\n",
        "Q3 = df[\"value_price\"].quantile(0.75)\n",
        "IQR = Q3 - Q1\n",
        "low_limit = Q1 - (IQR * 1.5)\n",
        "high_limit = Q3 + (IQR * 1.5)\n",
        "df = df[(df[\"value_price\"] >= low_limit) & (df[\"value_price\"] <= high_limit)]"
      ],
      "execution_count": null,
      "outputs": []
    },
    {
      "cell_type": "code",
      "metadata": {
        "colab": {
          "base_uri": "https://localhost:8080/",
          "height": 350
        },
        "id": "ssN8fKOUF5xm",
        "outputId": "001d0cdb-f272-4ed3-88b4-a01f22b73f96"
      },
      "source": [
        "sns.distplot(df['value_price'])"
      ],
      "execution_count": null,
      "outputs": [
        {
          "output_type": "stream",
          "name": "stderr",
          "text": [
            "/usr/local/lib/python3.7/dist-packages/seaborn/distributions.py:2619: FutureWarning: `distplot` is a deprecated function and will be removed in a future version. Please adapt your code to use either `displot` (a figure-level function with similar flexibility) or `histplot` (an axes-level function for histograms).\n",
            "  warnings.warn(msg, FutureWarning)\n"
          ]
        },
        {
          "output_type": "execute_result",
          "data": {
            "text/plain": [
              "<matplotlib.axes._subplots.AxesSubplot at 0x7fd7405be9d0>"
            ]
          },
          "metadata": {},
          "execution_count": 140
        },
        {
          "output_type": "display_data",
          "data": {
            "image/png": "[encoded data removed]",
            "text/plain": [
              "<Figure size 432x288 with 1 Axes>"
            ]
          },
          "metadata": {
            "needs_background": "light"
          }
        }
      ]
    },
    {
      "cell_type": "code",
      "metadata": {
        "id": "EDnlXj4cGHc2"
      },
      "source": [
        "#Handle Outlier in price\n",
        "Q1 = df[\"price\"].quantile(0.25)\n",
        "Q3 = df[\"price\"].quantile(0.75)\n",
        "IQR = Q3 - Q1\n",
        "low_limit = Q1 - (IQR * 1.5)\n",
        "high_limit = Q3 + (IQR * 1.5)\n",
        "df = df[(df[\"price\"] >= low_limit) & (df[\"price\"] <= high_limit)]"
      ],
      "execution_count": null,
      "outputs": []
    },
    {
      "cell_type": "code",
      "metadata": {
        "colab": {
          "base_uri": "https://localhost:8080/",
          "height": 348
        },
        "id": "g9sNPoMmGRVg",
        "outputId": "e5725447-47ea-4af8-f8f1-97c0e6d9541e"
      },
      "source": [
        "sns.distplot(df['price'])"
      ],
      "execution_count": null,
      "outputs": [
        {
          "output_type": "stream",
          "name": "stderr",
          "text": [
            "/usr/local/lib/python3.7/dist-packages/seaborn/distributions.py:2619: FutureWarning: `distplot` is a deprecated function and will be removed in a future version. Please adapt your code to use either `displot` (a figure-level function with similar flexibility) or `histplot` (an axes-level function for histograms).\n",
            "  warnings.warn(msg, FutureWarning)\n"
          ]
        },
        {
          "output_type": "execute_result",
          "data": {
            "text/plain": [
              "<matplotlib.axes._subplots.AxesSubplot at 0x7fd740298a90>"
            ]
          },
          "metadata": {},
          "execution_count": 142
        },
        {
          "output_type": "display_data",
          "data": {
            "image/png": "[encoded data removed]",
            "text/plain": [
              "<Figure size 432x288 with 1 Axes>"
            ]
          },
          "metadata": {
            "needs_background": "light"
          }
        }
      ]
    },
    {
      "cell_type": "code",
      "metadata": {
        "id": "efmm9067Gehu"
      },
      "source": [
        "#Handle Outlier in love\n",
        "Q1 = df[\"love\"].quantile(0.25)\n",
        "Q3 = df[\"love\"].quantile(0.75)\n",
        "IQR = Q3 - Q1\n",
        "low_limit = Q1 - (IQR * 1.5)\n",
        "high_limit = Q3 + (IQR * 1.5)\n",
        "df = df[(df[\"love\"] >= low_limit) & (df[\"love\"] <= high_limit)]"
      ],
      "execution_count": null,
      "outputs": []
    },
    {
      "cell_type": "code",
      "metadata": {
        "colab": {
          "base_uri": "https://localhost:8080/",
          "height": 348
        },
        "id": "IYlqbK_cKgy8",
        "outputId": "b6308434-0fb7-4b49-a407-5a6859dd67bc"
      },
      "source": [
        "sns.distplot(df['love'])"
      ],
      "execution_count": null,
      "outputs": [
        {
          "output_type": "stream",
          "name": "stderr",
          "text": [
            "/usr/local/lib/python3.7/dist-packages/seaborn/distributions.py:2619: FutureWarning: `distplot` is a deprecated function and will be removed in a future version. Please adapt your code to use either `displot` (a figure-level function with similar flexibility) or `histplot` (an axes-level function for histograms).\n",
            "  warnings.warn(msg, FutureWarning)\n"
          ]
        },
        {
          "output_type": "execute_result",
          "data": {
            "text/plain": [
              "<matplotlib.axes._subplots.AxesSubplot at 0x7fd7401f2110>"
            ]
          },
          "metadata": {},
          "execution_count": 144
        },
        {
          "output_type": "display_data",
          "data": {
            "image/png": "[encoded data removed]",
            "text/plain": [
              "<Figure size 432x288 with 1 Axes>"
            ]
          },
          "metadata": {
            "needs_background": "light"
          }
        }
      ]
    },
    {
      "cell_type": "code",
      "metadata": {
        "id": "0E58vrnbKpe1"
      },
      "source": [
        "#Handle Outlier in number_of_reviews\n",
        "Q1 = df[\"number_of_reviews\"].quantile(0.25)\n",
        "Q3 = df[\"number_of_reviews\"].quantile(0.75)\n",
        "IQR = Q3 - Q1\n",
        "low_limit = Q1 - (IQR * 1.5)\n",
        "high_limit = Q3 + (IQR * 1.5)\n",
        "df = df[(df[\"number_of_reviews\"] >= low_limit) & (df[\"number_of_reviews\"] <= high_limit)]"
      ],
      "execution_count": null,
      "outputs": []
    },
    {
      "cell_type": "code",
      "metadata": {
        "colab": {
          "base_uri": "https://localhost:8080/",
          "height": 352
        },
        "id": "_W4oHgyRK7U8",
        "outputId": "dc6a591a-b493-4603-8542-c56646ace716"
      },
      "source": [
        "sns.distplot(df['number_of_reviews'])"
      ],
      "execution_count": null,
      "outputs": [
        {
          "output_type": "stream",
          "name": "stderr",
          "text": [
            "/usr/local/lib/python3.7/dist-packages/seaborn/distributions.py:2619: FutureWarning: `distplot` is a deprecated function and will be removed in a future version. Please adapt your code to use either `displot` (a figure-level function with similar flexibility) or `histplot` (an axes-level function for histograms).\n",
            "  warnings.warn(msg, FutureWarning)\n"
          ]
        },
        {
          "output_type": "execute_result",
          "data": {
            "text/plain": [
              "<matplotlib.axes._subplots.AxesSubplot at 0x7fd740129450>"
            ]
          },
          "metadata": {},
          "execution_count": 146
        },
        {
          "output_type": "display_data",
          "data": {
            "image/png": "[encoded data removed]",
            "text/plain": [
              "<Figure size 432x288 with 1 Axes>"
            ]
          },
          "metadata": {
            "needs_background": "light"
          }
        }
      ]
    },
    {
      "cell_type": "code",
      "metadata": {
        "id": "e8oSJa_BMlIr"
      },
      "source": [
        "#Handle Outlier in rating\n",
        "Q1 = df[\"rating\"].quantile(0.25)\n",
        "Q3 = df[\"rating\"].quantile(0.75)\n",
        "IQR = Q3 - Q1\n",
        "low_limit = Q1 - (IQR * 1.5)\n",
        "high_limit = Q3 + (IQR * 1.5)\n",
        "df = df[(df[\"rating\"] >= low_limit) & (df[\"rating\"] <= high_limit)]"
      ],
      "execution_count": null,
      "outputs": []
    },
    {
      "cell_type": "code",
      "metadata": {
        "colab": {
          "base_uri": "https://localhost:8080/",
          "height": 350
        },
        "id": "oyN_fGB0MnHL",
        "outputId": "08cca47c-e730-4dfc-fe42-a6f9ce344b93"
      },
      "source": [
        "sns.distplot(df['rating'])"
      ],
      "execution_count": null,
      "outputs": [
        {
          "output_type": "stream",
          "name": "stderr",
          "text": [
            "/usr/local/lib/python3.7/dist-packages/seaborn/distributions.py:2619: FutureWarning: `distplot` is a deprecated function and will be removed in a future version. Please adapt your code to use either `displot` (a figure-level function with similar flexibility) or `histplot` (an axes-level function for histograms).\n",
            "  warnings.warn(msg, FutureWarning)\n"
          ]
        },
        {
          "output_type": "execute_result",
          "data": {
            "text/plain": [
              "<matplotlib.axes._subplots.AxesSubplot at 0x7fd74002edd0>"
            ]
          },
          "metadata": {},
          "execution_count": 148
        },
        {
          "output_type": "display_data",
          "data": {
            "image/png": "[encoded data removed]",
            "text/plain": [
              "<Figure size 432x288 with 1 Axes>"
            ]
          },
          "metadata": {
            "needs_background": "light"
          }
        }
      ]
    },
    {
      "cell_type": "code",
      "metadata": {
        "id": "2-AJONK2M6VU"
      },
      "source": [
        "#Handle Outlier in id\n",
        "Q1 = df[\"id\"].quantile(0.25)\n",
        "Q3 = df[\"id\"].quantile(0.75)\n",
        "IQR = Q3 - Q1\n",
        "low_limit = Q1 - (IQR * 1.5)\n",
        "high_limit = Q3 + (IQR * 1.5)\n",
        "df = df[(df[\"id\"] >= low_limit) & (df[\"id\"] <= high_limit)]"
      ],
      "execution_count": null,
      "outputs": []
    },
    {
      "cell_type": "code",
      "metadata": {
        "colab": {
          "base_uri": "https://localhost:8080/",
          "height": 360
        },
        "id": "3dDVI_3XNHWD",
        "outputId": "f691a877-7627-4c2e-ff70-2b4475793202"
      },
      "source": [
        "sns.distplot(df['id'])"
      ],
      "execution_count": null,
      "outputs": [
        {
          "output_type": "stream",
          "name": "stderr",
          "text": [
            "/usr/local/lib/python3.7/dist-packages/seaborn/distributions.py:2619: FutureWarning: `distplot` is a deprecated function and will be removed in a future version. Please adapt your code to use either `displot` (a figure-level function with similar flexibility) or `histplot` (an axes-level function for histograms).\n",
            "  warnings.warn(msg, FutureWarning)\n"
          ]
        },
        {
          "output_type": "execute_result",
          "data": {
            "text/plain": [
              "<matplotlib.axes._subplots.AxesSubplot at 0x7fd73ff6dcd0>"
            ]
          },
          "metadata": {},
          "execution_count": 150
        },
        {
          "output_type": "display_data",
          "data": {
            "image/png": "[encoded data removed]",
            "text/plain": [
              "<Figure size 432x288 with 1 Axes>"
            ]
          },
          "metadata": {
            "needs_background": "light"
          }
        }
      ]
    },
    {
      "cell_type": "markdown",
      "metadata": {
        "id": "yrxxw3GUczh-"
      },
      "source": [
        "# Answer Question Business"
      ]
    },
    {
      "cell_type": "markdown",
      "metadata": {
        "id": "jcWahmpLc7th"
      },
      "source": [
        "## Produk apa yang paling banyak mendapatkan review baik dari customer?\n",
        "***Review baik didapat dari banyaknya jumlah review, jumlah love, yang memiliki rating diatas mean / rataan.***\n",
        "* Produk dengan brand Yves Saint Laurent yang termasuk keadalam kategori Tinted Moisturizer.\n",
        "* Sedangkan secara keseluruhan berdasarkan kategori produk, yang paling banyak mendapatkan review baik dan disukai oleh customer adalah kategori face serums dengan total review baik sebanyak 1054 dan love sebanyak 43000"
      ]
    },
    {
      "cell_type": "code",
      "metadata": {
        "colab": {
          "base_uri": "https://localhost:8080/",
          "height": 171
        },
        "id": "NtHkD2NCDcM_",
        "outputId": "2b630bb1-b065-4421-8ed6-e9af85052cfa"
      },
      "source": [
        "# Melihat rating yang ada\n",
        "rating=df['rating'].value_counts().reset_index().sort_values(by='index',ascending=False).reset_index(drop=True)\n",
        "rating.rename(columns = {'index':'rating','rating':'count'}, inplace = True)\n",
        "rating"
      ],
      "execution_count": null,
      "outputs": [
        {
          "output_type": "execute_result",
          "data": {
            "text/html": [
              "<div>\n",
              "<style scoped>\n",
              "    .dataframe tbody tr th:only-of-type {\n",
              "        vertical-align: middle;\n",
              "    }\n",
              "\n",
              "    .dataframe tbody tr th {\n",
              "        vertical-align: top;\n",
              "    }\n",
              "\n",
              "    .dataframe thead th {\n",
              "        text-align: right;\n",
              "    }\n",
              "</style>\n",
              "<table border=\"1\" class=\"dataframe\">\n",
              "  <thead>\n",
              "    <tr style=\"text-align: right;\">\n",
              "      <th></th>\n",
              "      <th>rating</th>\n",
              "      <th>count</th>\n",
              "    </tr>\n",
              "  </thead>\n",
              "  <tbody>\n",
              "    <tr>\n",
              "      <th>0</th>\n",
              "      <td>5.0</td>\n",
              "      <td>323</td>\n",
              "    </tr>\n",
              "    <tr>\n",
              "      <th>1</th>\n",
              "      <td>4.5</td>\n",
              "      <td>1569</td>\n",
              "    </tr>\n",
              "    <tr>\n",
              "      <th>2</th>\n",
              "      <td>4.0</td>\n",
              "      <td>1444</td>\n",
              "    </tr>\n",
              "    <tr>\n",
              "      <th>3</th>\n",
              "      <td>3.5</td>\n",
              "      <td>610</td>\n",
              "    </tr>\n",
              "  </tbody>\n",
              "</table>\n",
              "</div>"
            ],
            "text/plain": [
              "   rating  count\n",
              "0     5.0    323\n",
              "1     4.5   1569\n",
              "2     4.0   1444\n",
              "3     3.5    610"
            ]
          },
          "metadata": {},
          "execution_count": 151
        }
      ]
    },
    {
      "cell_type": "code",
      "metadata": {
        "colab": {
          "base_uri": "https://localhost:8080/",
          "height": 294
        },
        "id": "5RxpeGn0DTta",
        "outputId": "32133454-162e-4609-cbee-45a876872f87"
      },
      "source": [
        "# Membuat subset dan melihat nilai rata-rata\n",
        "review=df[['brand','name','category','rating','number_of_reviews','love']]\n",
        "review.describe()"
      ],
      "execution_count": null,
      "outputs": [
        {
          "output_type": "execute_result",
          "data": {
            "text/html": [
              "<div>\n",
              "<style scoped>\n",
              "    .dataframe tbody tr th:only-of-type {\n",
              "        vertical-align: middle;\n",
              "    }\n",
              "\n",
              "    .dataframe tbody tr th {\n",
              "        vertical-align: top;\n",
              "    }\n",
              "\n",
              "    .dataframe thead th {\n",
              "        text-align: right;\n",
              "    }\n",
              "</style>\n",
              "<table border=\"1\" class=\"dataframe\">\n",
              "  <thead>\n",
              "    <tr style=\"text-align: right;\">\n",
              "      <th></th>\n",
              "      <th>rating</th>\n",
              "      <th>number_of_reviews</th>\n",
              "      <th>love</th>\n",
              "    </tr>\n",
              "  </thead>\n",
              "  <tbody>\n",
              "    <tr>\n",
              "      <th>count</th>\n",
              "      <td>3946.000000</td>\n",
              "      <td>3946.000000</td>\n",
              "      <td>3946.000000</td>\n",
              "    </tr>\n",
              "    <tr>\n",
              "      <th>mean</th>\n",
              "      <td>4.203371</td>\n",
              "      <td>111.583122</td>\n",
              "      <td>8808.053979</td>\n",
              "    </tr>\n",
              "    <tr>\n",
              "      <th>std</th>\n",
              "      <td>0.422601</td>\n",
              "      <td>128.395834</td>\n",
              "      <td>9054.060622</td>\n",
              "    </tr>\n",
              "    <tr>\n",
              "      <th>min</th>\n",
              "      <td>3.500000</td>\n",
              "      <td>1.000000</td>\n",
              "      <td>0.000000</td>\n",
              "    </tr>\n",
              "    <tr>\n",
              "      <th>25%</th>\n",
              "      <td>4.000000</td>\n",
              "      <td>19.000000</td>\n",
              "      <td>2400.000000</td>\n",
              "    </tr>\n",
              "    <tr>\n",
              "      <th>50%</th>\n",
              "      <td>4.000000</td>\n",
              "      <td>57.000000</td>\n",
              "      <td>5500.000000</td>\n",
              "    </tr>\n",
              "    <tr>\n",
              "      <th>75%</th>\n",
              "      <td>4.500000</td>\n",
              "      <td>160.000000</td>\n",
              "      <td>12200.000000</td>\n",
              "    </tr>\n",
              "    <tr>\n",
              "      <th>max</th>\n",
              "      <td>5.000000</td>\n",
              "      <td>548.000000</td>\n",
              "      <td>45800.000000</td>\n",
              "    </tr>\n",
              "  </tbody>\n",
              "</table>\n",
              "</div>"
            ],
            "text/plain": [
              "            rating  number_of_reviews          love\n",
              "count  3946.000000        3946.000000   3946.000000\n",
              "mean      4.203371         111.583122   8808.053979\n",
              "std       0.422601         128.395834   9054.060622\n",
              "min       3.500000           1.000000      0.000000\n",
              "25%       4.000000          19.000000   2400.000000\n",
              "50%       4.000000          57.000000   5500.000000\n",
              "75%       4.500000         160.000000  12200.000000\n",
              "max       5.000000         548.000000  45800.000000"
            ]
          },
          "metadata": {},
          "execution_count": 152
        }
      ]
    },
    {
      "cell_type": "code",
      "metadata": {
        "colab": {
          "base_uri": "https://localhost:8080/",
          "height": 355
        },
        "id": "WRnyqLsmGPBa",
        "outputId": "932ec9b7-1299-49fd-cd21-a36f312a5bb4"
      },
      "source": [
        "#Melakukan filter catergory yang memiliki review baik dan love banyak\n",
        "review_baik=review[(review['rating']>=4.203371)&\n",
        "       (review['number_of_reviews']>=111.583122)&\n",
        "       (review['love']>=8808.053979)].sort_values(by='number_of_reviews',ascending=False).reset_index(drop=True)\n",
        "review_baik = review_baik.head(10)\n",
        "review_baik"
      ],
      "execution_count": null,
      "outputs": [
        {
          "output_type": "execute_result",
          "data": {
            "text/html": [
              "<div>\n",
              "<style scoped>\n",
              "    .dataframe tbody tr th:only-of-type {\n",
              "        vertical-align: middle;\n",
              "    }\n",
              "\n",
              "    .dataframe tbody tr th {\n",
              "        vertical-align: top;\n",
              "    }\n",
              "\n",
              "    .dataframe thead th {\n",
              "        text-align: right;\n",
              "    }\n",
              "</style>\n",
              "<table border=\"1\" class=\"dataframe\">\n",
              "  <thead>\n",
              "    <tr style=\"text-align: right;\">\n",
              "      <th></th>\n",
              "      <th>brand</th>\n",
              "      <th>name</th>\n",
              "      <th>category</th>\n",
              "      <th>rating</th>\n",
              "      <th>number_of_reviews</th>\n",
              "      <th>love</th>\n",
              "    </tr>\n",
              "  </thead>\n",
              "  <tbody>\n",
              "    <tr>\n",
              "      <th>0</th>\n",
              "      <td>Yves Saint Laurent</td>\n",
              "      <td>TOUCHE ECLAT All-In-One Glow</td>\n",
              "      <td>Tinted Moisturizer</td>\n",
              "      <td>4.5</td>\n",
              "      <td>548</td>\n",
              "      <td>33400</td>\n",
              "    </tr>\n",
              "    <tr>\n",
              "      <th>1</th>\n",
              "      <td>Playa</td>\n",
              "      <td>Ritual Hair Oil</td>\n",
              "      <td>Hair Oil</td>\n",
              "      <td>4.5</td>\n",
              "      <td>542</td>\n",
              "      <td>10800</td>\n",
              "    </tr>\n",
              "    <tr>\n",
              "      <th>2</th>\n",
              "      <td>PAT McGRATH LABS</td>\n",
              "      <td>Skin Fetish: Sublime Perfection Concealer</td>\n",
              "      <td>Concealer</td>\n",
              "      <td>4.5</td>\n",
              "      <td>539</td>\n",
              "      <td>22000</td>\n",
              "    </tr>\n",
              "    <tr>\n",
              "      <th>3</th>\n",
              "      <td>SEPHORA COLLECTION</td>\n",
              "      <td>Illuminate Palette</td>\n",
              "      <td>Highlighter</td>\n",
              "      <td>4.5</td>\n",
              "      <td>538</td>\n",
              "      <td>35200</td>\n",
              "    </tr>\n",
              "    <tr>\n",
              "      <th>4</th>\n",
              "      <td>Glow Recipe</td>\n",
              "      <td>Watermelon Glow Lip Pop</td>\n",
              "      <td>Lip Balms &amp; Treatments</td>\n",
              "      <td>4.5</td>\n",
              "      <td>537</td>\n",
              "      <td>20800</td>\n",
              "    </tr>\n",
              "    <tr>\n",
              "      <th>5</th>\n",
              "      <td>Caudalie</td>\n",
              "      <td>Moisturizing Toner</td>\n",
              "      <td>Toners</td>\n",
              "      <td>4.5</td>\n",
              "      <td>533</td>\n",
              "      <td>35700</td>\n",
              "    </tr>\n",
              "    <tr>\n",
              "      <th>6</th>\n",
              "      <td>Dr. Jart+</td>\n",
              "      <td>Cicapair™ Tiger Grass Calming Gel Cream</td>\n",
              "      <td>Moisturizers</td>\n",
              "      <td>4.5</td>\n",
              "      <td>532</td>\n",
              "      <td>10200</td>\n",
              "    </tr>\n",
              "    <tr>\n",
              "      <th>7</th>\n",
              "      <td>Peter Thomas Roth</td>\n",
              "      <td>Retinol Fusion PM</td>\n",
              "      <td>Face Serums</td>\n",
              "      <td>4.5</td>\n",
              "      <td>530</td>\n",
              "      <td>20900</td>\n",
              "    </tr>\n",
              "    <tr>\n",
              "      <th>8</th>\n",
              "      <td>Hourglass</td>\n",
              "      <td>Arch Brow Micro Sculpting Pencil</td>\n",
              "      <td>Eyebrow</td>\n",
              "      <td>4.5</td>\n",
              "      <td>524</td>\n",
              "      <td>12100</td>\n",
              "    </tr>\n",
              "    <tr>\n",
              "      <th>9</th>\n",
              "      <td>Kate Somerville</td>\n",
              "      <td>Anti Bac Clearing Lotion</td>\n",
              "      <td>Face Serums</td>\n",
              "      <td>4.5</td>\n",
              "      <td>524</td>\n",
              "      <td>22100</td>\n",
              "    </tr>\n",
              "  </tbody>\n",
              "</table>\n",
              "</div>"
            ],
            "text/plain": [
              "                brand  ...   love\n",
              "0  Yves Saint Laurent  ...  33400\n",
              "1               Playa  ...  10800\n",
              "2    PAT McGRATH LABS  ...  22000\n",
              "3  SEPHORA COLLECTION  ...  35200\n",
              "4         Glow Recipe  ...  20800\n",
              "5            Caudalie  ...  35700\n",
              "6           Dr. Jart+  ...  10200\n",
              "7   Peter Thomas Roth  ...  20900\n",
              "8           Hourglass  ...  12100\n",
              "9     Kate Somerville  ...  22100\n",
              "\n",
              "[10 rows x 6 columns]"
            ]
          },
          "metadata": {},
          "execution_count": 153
        }
      ]
    },
    {
      "cell_type": "code",
      "metadata": {
        "colab": {
          "base_uri": "https://localhost:8080/",
          "height": 502
        },
        "id": "sHVbEPEep-H4",
        "outputId": "d4aadffe-34be-443d-844e-f98f92e3b52c"
      },
      "source": [
        "plt.figure(figsize=(16, 8))\n",
        "sns.barplot(\n",
        "    y=\"name\",\n",
        "    x=\"number_of_reviews\",\n",
        "    data=review_baik)\n",
        "\n",
        "plt.xlabel(\"Category of Products\",fontsize=14)\n",
        "plt.ylabel(\"Number of good reviews\",fontsize=14)\n",
        "plt.yticks(fontsize=12)\n",
        "plt.xticks(fontsize=12)\n",
        "plt.title(\"Number of Good Reviews each product\",fontsize=18)"
      ],
      "execution_count": null,
      "outputs": [
        {
          "output_type": "execute_result",
          "data": {
            "text/plain": [
              "Text(0.5, 1.0, 'Number of Good Reviews each product')"
            ]
          },
          "metadata": {},
          "execution_count": 154
        },
        {
          "output_type": "display_data",
          "data": {
            "image/png": "[encoded data removed]",
            "text/plain": [
              "<Figure size 1152x576 with 1 Axes>"
            ]
          },
          "metadata": {
            "needs_background": "light"
          }
        }
      ]
    },
    {
      "cell_type": "code",
      "metadata": {
        "id": "9ZVNzr1rp-ET"
      },
      "source": [],
      "execution_count": null,
      "outputs": []
    },
    {
      "cell_type": "code",
      "metadata": {
        "colab": {
          "base_uri": "https://localhost:8080/",
          "height": 255
        },
        "id": "krTiWRS91hYc",
        "outputId": "e36c781e-d4d8-4a3e-8398-986bc161c67e"
      },
      "source": [
        "#Membuat subset rating paling baik\n",
        "review_baik_cat=review_baik.groupby(['category','rating'])['number_of_reviews','love'].sum().reset_index().sort_values(by='number_of_reviews',ascending=False).reset_index(drop = True).head(5)\n",
        "review_baik_cat"
      ],
      "execution_count": null,
      "outputs": [
        {
          "output_type": "stream",
          "name": "stderr",
          "text": [
            "/usr/local/lib/python3.7/dist-packages/ipykernel_launcher.py:2: FutureWarning: Indexing with multiple keys (implicitly converted to a tuple of keys) will be deprecated, use a list instead.\n",
            "  \n"
          ]
        },
        {
          "output_type": "execute_result",
          "data": {
            "text/html": [
              "<div>\n",
              "<style scoped>\n",
              "    .dataframe tbody tr th:only-of-type {\n",
              "        vertical-align: middle;\n",
              "    }\n",
              "\n",
              "    .dataframe tbody tr th {\n",
              "        vertical-align: top;\n",
              "    }\n",
              "\n",
              "    .dataframe thead th {\n",
              "        text-align: right;\n",
              "    }\n",
              "</style>\n",
              "<table border=\"1\" class=\"dataframe\">\n",
              "  <thead>\n",
              "    <tr style=\"text-align: right;\">\n",
              "      <th></th>\n",
              "      <th>category</th>\n",
              "      <th>rating</th>\n",
              "      <th>number_of_reviews</th>\n",
              "      <th>love</th>\n",
              "    </tr>\n",
              "  </thead>\n",
              "  <tbody>\n",
              "    <tr>\n",
              "      <th>0</th>\n",
              "      <td>Face Serums</td>\n",
              "      <td>4.5</td>\n",
              "      <td>1054</td>\n",
              "      <td>43000</td>\n",
              "    </tr>\n",
              "    <tr>\n",
              "      <th>1</th>\n",
              "      <td>Tinted Moisturizer</td>\n",
              "      <td>4.5</td>\n",
              "      <td>548</td>\n",
              "      <td>33400</td>\n",
              "    </tr>\n",
              "    <tr>\n",
              "      <th>2</th>\n",
              "      <td>Hair Oil</td>\n",
              "      <td>4.5</td>\n",
              "      <td>542</td>\n",
              "      <td>10800</td>\n",
              "    </tr>\n",
              "    <tr>\n",
              "      <th>3</th>\n",
              "      <td>Concealer</td>\n",
              "      <td>4.5</td>\n",
              "      <td>539</td>\n",
              "      <td>22000</td>\n",
              "    </tr>\n",
              "    <tr>\n",
              "      <th>4</th>\n",
              "      <td>Highlighter</td>\n",
              "      <td>4.5</td>\n",
              "      <td>538</td>\n",
              "      <td>35200</td>\n",
              "    </tr>\n",
              "  </tbody>\n",
              "</table>\n",
              "</div>"
            ],
            "text/plain": [
              "             category  rating  number_of_reviews   love\n",
              "0         Face Serums     4.5               1054  43000\n",
              "1  Tinted Moisturizer     4.5                548  33400\n",
              "2            Hair Oil     4.5                542  10800\n",
              "3           Concealer     4.5                539  22000\n",
              "4         Highlighter     4.5                538  35200"
            ]
          },
          "metadata": {},
          "execution_count": 155
        }
      ]
    },
    {
      "cell_type": "code",
      "metadata": {
        "colab": {
          "base_uri": "https://localhost:8080/",
          "height": 541
        },
        "id": "UJyJwt1wyqb4",
        "outputId": "60912b8d-4ddf-4fb9-d075-f603fb1cc68d"
      },
      "source": [
        "plt.figure(figsize=(16, 8))\n",
        "sns.barplot(\n",
        "    y=\"number_of_reviews\",\n",
        "    x=\"category\",\n",
        "    data=review_baik_cat)\n",
        "\n",
        "plt.xlabel(\"Category of Products\",fontsize=14)\n",
        "plt.ylabel(\"Number of good reviews\",fontsize=14)\n",
        "plt.yticks(fontsize=12)\n",
        "plt.xticks(fontsize=12)\n",
        "plt.title(\"Number of Good Reviews each category\",fontsize=18)"
      ],
      "execution_count": null,
      "outputs": [
        {
          "output_type": "execute_result",
          "data": {
            "text/plain": [
              "Text(0.5, 1.0, 'Number of Good Reviews each category')"
            ]
          },
          "metadata": {},
          "execution_count": 156
        },
        {
          "output_type": "display_data",
          "data": {
            "image/png": "[encoded data removed]",
            "text/plain": [
              "<Figure size 1152x576 with 1 Axes>"
            ]
          },
          "metadata": {
            "needs_background": "light"
          }
        }
      ]
    },
    {
      "cell_type": "code",
      "metadata": {
        "colab": {
          "base_uri": "https://localhost:8080/",
          "height": 541
        },
        "id": "7zCKIg_2OGb9",
        "outputId": "d0799fa9-d930-4f7a-fa31-3690d0ba0a0f"
      },
      "source": [
        "plt.figure(figsize=(16, 8))\n",
        "sns.barplot(\n",
        "    y=\"love\",\n",
        "    x=\"category\",\n",
        "    data=review_baik_cat)\n",
        "\n",
        "plt.xlabel(\"Category of Products\",fontsize=14)\n",
        "plt.ylabel(\"Number of love\",fontsize=14)\n",
        "plt.yticks(fontsize=12)\n",
        "plt.xticks(fontsize=12)\n",
        "plt.title(\"Number of love from good reviews each category\",fontsize=18)"
      ],
      "execution_count": null,
      "outputs": [
        {
          "output_type": "execute_result",
          "data": {
            "text/plain": [
              "Text(0.5, 1.0, 'Number of love from good reviews each category')"
            ]
          },
          "metadata": {},
          "execution_count": 157
        },
        {
          "output_type": "display_data",
          "data": {
            "image/png": "[encoded data removed]",
            "text/plain": [
              "<Figure size 1152x576 with 1 Axes>"
            ]
          },
          "metadata": {
            "needs_background": "light"
          }
        }
      ]
    },
    {
      "cell_type": "code",
      "metadata": {
        "colab": {
          "base_uri": "https://localhost:8080/",
          "height": 48
        },
        "id": "I4fyP13_V2Fr",
        "outputId": "64ed853d-4d11-4c25-b424-5b7e81954799"
      },
      "source": [
        "#Melakukan filter catergory yang memiliki review baik dan love banyak\n",
        "review_baik_brand=review[\n",
        "       (review['category'].isin(['Face Mask']))&\n",
        "       (review['rating']>=4.203371)&\n",
        "       (review['number_of_reviews']>=111.583122)&\n",
        "       (review['love']>=8808.053979)].sort_values(by='number_of_reviews',ascending=False).reset_index(drop=True)\n",
        "review_baik_brand = review_baik_brand.head(5)\n",
        "review_baik_brand"
      ],
      "execution_count": null,
      "outputs": [
        {
          "output_type": "execute_result",
          "data": {
            "text/html": [
              "<div>\n",
              "<style scoped>\n",
              "    .dataframe tbody tr th:only-of-type {\n",
              "        vertical-align: middle;\n",
              "    }\n",
              "\n",
              "    .dataframe tbody tr th {\n",
              "        vertical-align: top;\n",
              "    }\n",
              "\n",
              "    .dataframe thead th {\n",
              "        text-align: right;\n",
              "    }\n",
              "</style>\n",
              "<table border=\"1\" class=\"dataframe\">\n",
              "  <thead>\n",
              "    <tr style=\"text-align: right;\">\n",
              "      <th></th>\n",
              "      <th>brand</th>\n",
              "      <th>name</th>\n",
              "      <th>category</th>\n",
              "      <th>rating</th>\n",
              "      <th>number_of_reviews</th>\n",
              "      <th>love</th>\n",
              "    </tr>\n",
              "  </thead>\n",
              "  <tbody>\n",
              "  </tbody>\n",
              "</table>\n",
              "</div>"
            ],
            "text/plain": [
              "Empty DataFrame\n",
              "Columns: [brand, name, category, rating, number_of_reviews, love]\n",
              "Index: []"
            ]
          },
          "metadata": {},
          "execution_count": 158
        }
      ]
    },
    {
      "cell_type": "markdown",
      "metadata": {
        "id": "zNdp2kE733qW"
      },
      "source": [
        "## Kategori produk apa yang paling disukai oleh customer?\n",
        "Kategori produk lipstick karena memiliki total love terbanyak yaitu 1.610.700"
      ]
    },
    {
      "cell_type": "code",
      "metadata": {
        "colab": {
          "base_uri": "https://localhost:8080/",
          "height": 202
        },
        "id": "hH6LZFwl6FvU",
        "outputId": "c73c6d43-7dde-4ae4-8755-fc702c7325ee"
      },
      "source": [
        "max_cat_prod_love=df[['category','love']]\n",
        "max_cat_prod_love=max_cat_prod_love.groupby('category')['love'].sum().reset_index().sort_values(by='love',ascending=False).reset_index(drop=True).head(5)\n",
        "max_cat_prod_love"
      ],
      "execution_count": null,
      "outputs": [
        {
          "output_type": "execute_result",
          "data": {
            "text/html": [
              "<div>\n",
              "<style scoped>\n",
              "    .dataframe tbody tr th:only-of-type {\n",
              "        vertical-align: middle;\n",
              "    }\n",
              "\n",
              "    .dataframe tbody tr th {\n",
              "        vertical-align: top;\n",
              "    }\n",
              "\n",
              "    .dataframe thead th {\n",
              "        text-align: right;\n",
              "    }\n",
              "</style>\n",
              "<table border=\"1\" class=\"dataframe\">\n",
              "  <thead>\n",
              "    <tr style=\"text-align: right;\">\n",
              "      <th></th>\n",
              "      <th>category</th>\n",
              "      <th>love</th>\n",
              "    </tr>\n",
              "  </thead>\n",
              "  <tbody>\n",
              "    <tr>\n",
              "      <th>0</th>\n",
              "      <td>Lipstick</td>\n",
              "      <td>1610700</td>\n",
              "    </tr>\n",
              "    <tr>\n",
              "      <th>1</th>\n",
              "      <td>Moisturizers</td>\n",
              "      <td>1286642</td>\n",
              "    </tr>\n",
              "    <tr>\n",
              "      <th>2</th>\n",
              "      <td>Face Masks</td>\n",
              "      <td>1245872</td>\n",
              "    </tr>\n",
              "    <tr>\n",
              "      <th>3</th>\n",
              "      <td>Face Brushes</td>\n",
              "      <td>1236776</td>\n",
              "    </tr>\n",
              "    <tr>\n",
              "      <th>4</th>\n",
              "      <td>Eye Palettes</td>\n",
              "      <td>1135900</td>\n",
              "    </tr>\n",
              "  </tbody>\n",
              "</table>\n",
              "</div>"
            ],
            "text/plain": [
              "       category     love\n",
              "0      Lipstick  1610700\n",
              "1  Moisturizers  1286642\n",
              "2    Face Masks  1245872\n",
              "3  Face Brushes  1236776\n",
              "4  Eye Palettes  1135900"
            ]
          },
          "metadata": {},
          "execution_count": 159
        }
      ]
    },
    {
      "cell_type": "code",
      "metadata": {
        "colab": {
          "base_uri": "https://localhost:8080/",
          "height": 541
        },
        "id": "ttr9QN5iXKIo",
        "outputId": "63ac4ae4-c5f6-4052-e905-d919bd1d8aa9"
      },
      "source": [
        "plt.figure(figsize=(16, 8))\n",
        "sns.barplot(\n",
        "    y=\"love\",\n",
        "    x=\"category\",\n",
        "    data=max_cat_prod_love)\n",
        "\n",
        "plt.yscale('log')\n",
        "plt.xlabel(\"Category of Products\",fontsize=14)\n",
        "plt.ylabel(\"Love\",fontsize=14)\n",
        "plt.yticks(fontsize=14)\n",
        "plt.xticks(fontsize=14)\n",
        "plt.title(\"Number of Loves each category\",fontsize=18)"
      ],
      "execution_count": null,
      "outputs": [
        {
          "output_type": "execute_result",
          "data": {
            "text/plain": [
              "Text(0.5, 1.0, 'Number of Loves each category')"
            ]
          },
          "metadata": {},
          "execution_count": 160
        },
        {
          "output_type": "display_data",
          "data": {
            "image/png": "[encoded data removed]",
            "text/plain": [
              "<Figure size 1152x576 with 1 Axes>"
            ]
          },
          "metadata": {
            "needs_background": "light"
          }
        }
      ]
    },
    {
      "cell_type": "markdown",
      "metadata": {
        "id": "b1CNV7gsawEv"
      },
      "source": [
        "## Apakah kategori produk yang paling disukai adalah produk yang harganya murah ?\n",
        "* Lipstick yang memiliki price dibawah rata-rata.\n",
        "* Sedangkan produk yang paling banyak di review adalah Moisturizer memiliki price diatas rata-rata."
      ]
    },
    {
      "cell_type": "code",
      "metadata": {
        "colab": {
          "base_uri": "https://localhost:8080/",
          "height": 294
        },
        "id": "MJcAi53lSDoM",
        "outputId": "dd8754fb-d20f-4b8b-bff1-be254c5b3198"
      },
      "source": [
        "min_price=df[['id','love','number_of_reviews','price']]\n",
        "min_price.describe()"
      ],
      "execution_count": null,
      "outputs": [
        {
          "output_type": "execute_result",
          "data": {
            "text/html": [
              "<div>\n",
              "<style scoped>\n",
              "    .dataframe tbody tr th:only-of-type {\n",
              "        vertical-align: middle;\n",
              "    }\n",
              "\n",
              "    .dataframe tbody tr th {\n",
              "        vertical-align: top;\n",
              "    }\n",
              "\n",
              "    .dataframe thead th {\n",
              "        text-align: right;\n",
              "    }\n",
              "</style>\n",
              "<table border=\"1\" class=\"dataframe\">\n",
              "  <thead>\n",
              "    <tr style=\"text-align: right;\">\n",
              "      <th></th>\n",
              "      <th>id</th>\n",
              "      <th>love</th>\n",
              "      <th>number_of_reviews</th>\n",
              "      <th>price</th>\n",
              "    </tr>\n",
              "  </thead>\n",
              "  <tbody>\n",
              "    <tr>\n",
              "      <th>count</th>\n",
              "      <td>3.946000e+03</td>\n",
              "      <td>3946.000000</td>\n",
              "      <td>3946.000000</td>\n",
              "      <td>3946.000000</td>\n",
              "    </tr>\n",
              "    <tr>\n",
              "      <th>mean</th>\n",
              "      <td>1.994408e+06</td>\n",
              "      <td>8808.053979</td>\n",
              "      <td>111.583122</td>\n",
              "      <td>34.898188</td>\n",
              "    </tr>\n",
              "    <tr>\n",
              "      <th>std</th>\n",
              "      <td>2.724634e+05</td>\n",
              "      <td>9054.060622</td>\n",
              "      <td>128.395834</td>\n",
              "      <td>17.498520</td>\n",
              "    </tr>\n",
              "    <tr>\n",
              "      <th>min</th>\n",
              "      <td>1.151711e+06</td>\n",
              "      <td>0.000000</td>\n",
              "      <td>1.000000</td>\n",
              "      <td>2.000000</td>\n",
              "    </tr>\n",
              "    <tr>\n",
              "      <th>25%</th>\n",
              "      <td>1.822347e+06</td>\n",
              "      <td>2400.000000</td>\n",
              "      <td>19.000000</td>\n",
              "      <td>24.000000</td>\n",
              "    </tr>\n",
              "    <tr>\n",
              "      <th>50%</th>\n",
              "      <td>2.055644e+06</td>\n",
              "      <td>5500.000000</td>\n",
              "      <td>57.000000</td>\n",
              "      <td>30.000000</td>\n",
              "    </tr>\n",
              "    <tr>\n",
              "      <th>75%</th>\n",
              "      <td>2.213234e+06</td>\n",
              "      <td>12200.000000</td>\n",
              "      <td>160.000000</td>\n",
              "      <td>44.000000</td>\n",
              "    </tr>\n",
              "    <tr>\n",
              "      <th>max</th>\n",
              "      <td>2.358570e+06</td>\n",
              "      <td>45800.000000</td>\n",
              "      <td>548.000000</td>\n",
              "      <td>84.000000</td>\n",
              "    </tr>\n",
              "  </tbody>\n",
              "</table>\n",
              "</div>"
            ],
            "text/plain": [
              "                 id          love  number_of_reviews        price\n",
              "count  3.946000e+03   3946.000000        3946.000000  3946.000000\n",
              "mean   1.994408e+06   8808.053979         111.583122    34.898188\n",
              "std    2.724634e+05   9054.060622         128.395834    17.498520\n",
              "min    1.151711e+06      0.000000           1.000000     2.000000\n",
              "25%    1.822347e+06   2400.000000          19.000000    24.000000\n",
              "50%    2.055644e+06   5500.000000          57.000000    30.000000\n",
              "75%    2.213234e+06  12200.000000         160.000000    44.000000\n",
              "max    2.358570e+06  45800.000000         548.000000    84.000000"
            ]
          },
          "metadata": {},
          "execution_count": 161
        }
      ]
    },
    {
      "cell_type": "code",
      "metadata": {
        "colab": {
          "base_uri": "https://localhost:8080/",
          "height": 414
        },
        "id": "QUxlczBLaxBL",
        "outputId": "9c78dad7-9d4f-449b-d342-f14e4b1d0cc6"
      },
      "source": [
        "min_price=df[['category','love','number_of_reviews','price']]\n",
        "min_price=min_price.groupby('category')[['love','number_of_reviews','price']].sum().reset_index().sort_values(by='love',ascending=False).reset_index(drop=True)\n",
        "min_price"
      ],
      "execution_count": null,
      "outputs": [
        {
          "output_type": "execute_result",
          "data": {
            "text/html": [
              "<div>\n",
              "<style scoped>\n",
              "    .dataframe tbody tr th:only-of-type {\n",
              "        vertical-align: middle;\n",
              "    }\n",
              "\n",
              "    .dataframe tbody tr th {\n",
              "        vertical-align: top;\n",
              "    }\n",
              "\n",
              "    .dataframe thead th {\n",
              "        text-align: right;\n",
              "    }\n",
              "</style>\n",
              "<table border=\"1\" class=\"dataframe\">\n",
              "  <thead>\n",
              "    <tr style=\"text-align: right;\">\n",
              "      <th></th>\n",
              "      <th>category</th>\n",
              "      <th>love</th>\n",
              "      <th>number_of_reviews</th>\n",
              "      <th>price</th>\n",
              "    </tr>\n",
              "  </thead>\n",
              "  <tbody>\n",
              "    <tr>\n",
              "      <th>0</th>\n",
              "      <td>Lipstick</td>\n",
              "      <td>1610700</td>\n",
              "      <td>11050</td>\n",
              "      <td>2710.00</td>\n",
              "    </tr>\n",
              "    <tr>\n",
              "      <th>1</th>\n",
              "      <td>Moisturizers</td>\n",
              "      <td>1286642</td>\n",
              "      <td>27168</td>\n",
              "      <td>9505.98</td>\n",
              "    </tr>\n",
              "    <tr>\n",
              "      <th>2</th>\n",
              "      <td>Face Masks</td>\n",
              "      <td>1245872</td>\n",
              "      <td>16027</td>\n",
              "      <td>4208.93</td>\n",
              "    </tr>\n",
              "    <tr>\n",
              "      <th>3</th>\n",
              "      <td>Face Brushes</td>\n",
              "      <td>1236776</td>\n",
              "      <td>10067</td>\n",
              "      <td>4913.00</td>\n",
              "    </tr>\n",
              "    <tr>\n",
              "      <th>4</th>\n",
              "      <td>Eye Palettes</td>\n",
              "      <td>1135900</td>\n",
              "      <td>6864</td>\n",
              "      <td>3033.50</td>\n",
              "    </tr>\n",
              "    <tr>\n",
              "      <th>...</th>\n",
              "      <td>...</td>\n",
              "      <td>...</td>\n",
              "      <td>...</td>\n",
              "      <td>...</td>\n",
              "    </tr>\n",
              "    <tr>\n",
              "      <th>130</th>\n",
              "      <td>no category</td>\n",
              "      <td>2000</td>\n",
              "      <td>58</td>\n",
              "      <td>91.00</td>\n",
              "    </tr>\n",
              "    <tr>\n",
              "      <th>131</th>\n",
              "      <td>Shampoo &amp; Conditioner</td>\n",
              "      <td>1600</td>\n",
              "      <td>13</td>\n",
              "      <td>32.00</td>\n",
              "    </tr>\n",
              "    <tr>\n",
              "      <th>132</th>\n",
              "      <td>Cologne Gift Sets</td>\n",
              "      <td>1300</td>\n",
              "      <td>6</td>\n",
              "      <td>82.00</td>\n",
              "    </tr>\n",
              "    <tr>\n",
              "      <th>133</th>\n",
              "      <td>Deodorant for Men</td>\n",
              "      <td>897</td>\n",
              "      <td>9</td>\n",
              "      <td>53.00</td>\n",
              "    </tr>\n",
              "    <tr>\n",
              "      <th>134</th>\n",
              "      <td>Diffusers</td>\n",
              "      <td>721</td>\n",
              "      <td>2</td>\n",
              "      <td>24.00</td>\n",
              "    </tr>\n",
              "  </tbody>\n",
              "</table>\n",
              "<p>135 rows × 4 columns</p>\n",
              "</div>"
            ],
            "text/plain": [
              "                  category     love  number_of_reviews    price\n",
              "0                 Lipstick  1610700              11050  2710.00\n",
              "1             Moisturizers  1286642              27168  9505.98\n",
              "2               Face Masks  1245872              16027  4208.93\n",
              "3             Face Brushes  1236776              10067  4913.00\n",
              "4             Eye Palettes  1135900               6864  3033.50\n",
              "..                     ...      ...                ...      ...\n",
              "130            no category     2000                 58    91.00\n",
              "131  Shampoo & Conditioner     1600                 13    32.00\n",
              "132      Cologne Gift Sets     1300                  6    82.00\n",
              "133      Deodorant for Men      897                  9    53.00\n",
              "134              Diffusers      721                  2    24.00\n",
              "\n",
              "[135 rows x 4 columns]"
            ]
          },
          "metadata": {},
          "execution_count": 162
        }
      ]
    },
    {
      "cell_type": "code",
      "metadata": {
        "colab": {
          "base_uri": "https://localhost:8080/",
          "height": 294
        },
        "id": "SHfV_T9wcNZj",
        "outputId": "1c441028-3f3d-418a-a823-7d091be2bdf0"
      },
      "source": [
        "min_price[min_price['category'].isin(['Lipstick','Moisturizers'])].describe()"
      ],
      "execution_count": null,
      "outputs": [
        {
          "output_type": "execute_result",
          "data": {
            "text/html": [
              "<div>\n",
              "<style scoped>\n",
              "    .dataframe tbody tr th:only-of-type {\n",
              "        vertical-align: middle;\n",
              "    }\n",
              "\n",
              "    .dataframe tbody tr th {\n",
              "        vertical-align: top;\n",
              "    }\n",
              "\n",
              "    .dataframe thead th {\n",
              "        text-align: right;\n",
              "    }\n",
              "</style>\n",
              "<table border=\"1\" class=\"dataframe\">\n",
              "  <thead>\n",
              "    <tr style=\"text-align: right;\">\n",
              "      <th></th>\n",
              "      <th>love</th>\n",
              "      <th>number_of_reviews</th>\n",
              "      <th>price</th>\n",
              "    </tr>\n",
              "  </thead>\n",
              "  <tbody>\n",
              "    <tr>\n",
              "      <th>count</th>\n",
              "      <td>2.000000e+00</td>\n",
              "      <td>2.000000</td>\n",
              "      <td>2.000000</td>\n",
              "    </tr>\n",
              "    <tr>\n",
              "      <th>mean</th>\n",
              "      <td>1.448671e+06</td>\n",
              "      <td>19109.000000</td>\n",
              "      <td>6107.990000</td>\n",
              "    </tr>\n",
              "    <tr>\n",
              "      <th>std</th>\n",
              "      <td>2.291436e+05</td>\n",
              "      <td>11397.147099</td>\n",
              "      <td>4805.483543</td>\n",
              "    </tr>\n",
              "    <tr>\n",
              "      <th>min</th>\n",
              "      <td>1.286642e+06</td>\n",
              "      <td>11050.000000</td>\n",
              "      <td>2710.000000</td>\n",
              "    </tr>\n",
              "    <tr>\n",
              "      <th>25%</th>\n",
              "      <td>1.367656e+06</td>\n",
              "      <td>15079.500000</td>\n",
              "      <td>4408.995000</td>\n",
              "    </tr>\n",
              "    <tr>\n",
              "      <th>50%</th>\n",
              "      <td>1.448671e+06</td>\n",
              "      <td>19109.000000</td>\n",
              "      <td>6107.990000</td>\n",
              "    </tr>\n",
              "    <tr>\n",
              "      <th>75%</th>\n",
              "      <td>1.529686e+06</td>\n",
              "      <td>23138.500000</td>\n",
              "      <td>7806.985000</td>\n",
              "    </tr>\n",
              "    <tr>\n",
              "      <th>max</th>\n",
              "      <td>1.610700e+06</td>\n",
              "      <td>27168.000000</td>\n",
              "      <td>9505.980000</td>\n",
              "    </tr>\n",
              "  </tbody>\n",
              "</table>\n",
              "</div>"
            ],
            "text/plain": [
              "               love  number_of_reviews        price\n",
              "count  2.000000e+00           2.000000     2.000000\n",
              "mean   1.448671e+06       19109.000000  6107.990000\n",
              "std    2.291436e+05       11397.147099  4805.483543\n",
              "min    1.286642e+06       11050.000000  2710.000000\n",
              "25%    1.367656e+06       15079.500000  4408.995000\n",
              "50%    1.448671e+06       19109.000000  6107.990000\n",
              "75%    1.529686e+06       23138.500000  7806.985000\n",
              "max    1.610700e+06       27168.000000  9505.980000"
            ]
          },
          "metadata": {},
          "execution_count": 163
        }
      ]
    },
    {
      "cell_type": "code",
      "metadata": {
        "id": "MdR8tfuNi7C6"
      },
      "source": [
        "min_price=min_price[min_price['category'].isin(['Lipstick','Moisturizers'])].sort_values(by='price',ascending=False)"
      ],
      "execution_count": null,
      "outputs": []
    },
    {
      "cell_type": "code",
      "metadata": {
        "colab": {
          "base_uri": "https://localhost:8080/",
          "height": 524
        },
        "id": "YsKJgMp7cZT2",
        "outputId": "c0081a25-8100-4e53-f5ed-d7bee690f53a"
      },
      "source": [
        "plt.figure(figsize=(16, 8))\n",
        "sns.barplot(\n",
        "    y=\"price\",\n",
        "    x=\"category\",\n",
        "    data=min_price)\n",
        "\n",
        "#Drawing a horizontal line at point 6107.\n",
        "plt.axhline(6107.990000,color=\"red\")\n",
        "\n",
        "plt.xlabel(\"Category of Products\",fontsize=14)\n",
        "plt.ylabel(\"Price\",fontsize=14)\n",
        "plt.yticks(fontsize=12)\n",
        "plt.xticks(fontsize=12)\n",
        "plt.title(\"Price across category with the highest number of love or number of review\",fontsize=18)\n",
        "plt.show()"
      ],
      "execution_count": null,
      "outputs": [
        {
          "output_type": "display_data",
          "data": {
            "image/png": "[encoded data removed]",
            "text/plain": [
              "<Figure size 1152x576 with 1 Axes>"
            ]
          },
          "metadata": {
            "needs_background": "light"
          }
        }
      ]
    },
    {
      "cell_type": "markdown",
      "metadata": {
        "id": "eEXnhuBdLmGs"
      },
      "source": [
        "## Apakah kategori produk yang sudah diberi strategi marketing adalah produk yang paling kategori disukai oleh customer?\n",
        "Kategori produk yang diberi strategi marketing adalah kategori produk yang paling banyak disukai oleh customer. Tetapi produk yang tidak diberi strategi marketing pun lebih banyak yang suka."
      ]
    },
    {
      "cell_type": "code",
      "metadata": {
        "colab": {
          "base_uri": "https://localhost:8080/",
          "height": 355
        },
        "id": "P5ch40oCLlba",
        "outputId": "2f4a0993-52c2-40d2-cda5-1bb0edff89db"
      },
      "source": [
        "market_strat=df[['MarketingFlags','category','love']]\n",
        "market_strat=market_strat.groupby(['MarketingFlags','category'])['love'].sum().reset_index().sort_values(by='love',ascending=False).reset_index(drop=True)\n",
        "market_strat=market_strat[market_strat['category'].isin(['Lipstick','Moisturizers','Hair Styling Products','Eye Creams & Treatments','Face Brushes'])].reset_index(drop=True)\n",
        "market_strat"
      ],
      "execution_count": null,
      "outputs": [
        {
          "output_type": "execute_result",
          "data": {
            "text/html": [
              "<div>\n",
              "<style scoped>\n",
              "    .dataframe tbody tr th:only-of-type {\n",
              "        vertical-align: middle;\n",
              "    }\n",
              "\n",
              "    .dataframe tbody tr th {\n",
              "        vertical-align: top;\n",
              "    }\n",
              "\n",
              "    .dataframe thead th {\n",
              "        text-align: right;\n",
              "    }\n",
              "</style>\n",
              "<table border=\"1\" class=\"dataframe\">\n",
              "  <thead>\n",
              "    <tr style=\"text-align: right;\">\n",
              "      <th></th>\n",
              "      <th>MarketingFlags</th>\n",
              "      <th>category</th>\n",
              "      <th>love</th>\n",
              "    </tr>\n",
              "  </thead>\n",
              "  <tbody>\n",
              "    <tr>\n",
              "      <th>0</th>\n",
              "      <td>1</td>\n",
              "      <td>Lipstick</td>\n",
              "      <td>1300900</td>\n",
              "    </tr>\n",
              "    <tr>\n",
              "      <th>1</th>\n",
              "      <td>1</td>\n",
              "      <td>Moisturizers</td>\n",
              "      <td>916014</td>\n",
              "    </tr>\n",
              "    <tr>\n",
              "      <th>2</th>\n",
              "      <td>1</td>\n",
              "      <td>Hair Styling Products</td>\n",
              "      <td>761057</td>\n",
              "    </tr>\n",
              "    <tr>\n",
              "      <th>3</th>\n",
              "      <td>1</td>\n",
              "      <td>Eye Creams &amp; Treatments</td>\n",
              "      <td>753804</td>\n",
              "    </tr>\n",
              "    <tr>\n",
              "      <th>4</th>\n",
              "      <td>0</td>\n",
              "      <td>Face Brushes</td>\n",
              "      <td>690100</td>\n",
              "    </tr>\n",
              "    <tr>\n",
              "      <th>5</th>\n",
              "      <td>1</td>\n",
              "      <td>Face Brushes</td>\n",
              "      <td>546676</td>\n",
              "    </tr>\n",
              "    <tr>\n",
              "      <th>6</th>\n",
              "      <td>0</td>\n",
              "      <td>Moisturizers</td>\n",
              "      <td>370628</td>\n",
              "    </tr>\n",
              "    <tr>\n",
              "      <th>7</th>\n",
              "      <td>0</td>\n",
              "      <td>Lipstick</td>\n",
              "      <td>309800</td>\n",
              "    </tr>\n",
              "    <tr>\n",
              "      <th>8</th>\n",
              "      <td>0</td>\n",
              "      <td>Eye Creams &amp; Treatments</td>\n",
              "      <td>308600</td>\n",
              "    </tr>\n",
              "    <tr>\n",
              "      <th>9</th>\n",
              "      <td>0</td>\n",
              "      <td>Hair Styling Products</td>\n",
              "      <td>81230</td>\n",
              "    </tr>\n",
              "  </tbody>\n",
              "</table>\n",
              "</div>"
            ],
            "text/plain": [
              "   MarketingFlags                 category     love\n",
              "0               1                 Lipstick  1300900\n",
              "1               1             Moisturizers   916014\n",
              "2               1    Hair Styling Products   761057\n",
              "3               1  Eye Creams & Treatments   753804\n",
              "4               0             Face Brushes   690100\n",
              "5               1             Face Brushes   546676\n",
              "6               0             Moisturizers   370628\n",
              "7               0                 Lipstick   309800\n",
              "8               0  Eye Creams & Treatments   308600\n",
              "9               0    Hair Styling Products    81230"
            ]
          },
          "metadata": {},
          "execution_count": 166
        }
      ]
    },
    {
      "cell_type": "code",
      "metadata": {
        "colab": {
          "base_uri": "https://localhost:8080/",
          "height": 541
        },
        "id": "EFNiRYbgQLh6",
        "outputId": "710c57a9-133e-490b-f43f-85eec208181a"
      },
      "source": [
        "plt.figure(figsize=(16, 8))\n",
        "sns.barplot(\n",
        "    y=\"love\",\n",
        "    x=\"category\",\n",
        "    hue=\"MarketingFlags\",\n",
        "    data=market_strat)\n",
        "\n",
        "plt.yscale('log')\n",
        "plt.xlabel(\"Category of Products\",fontsize=14)\n",
        "plt.ylabel(\"Love\",fontsize=14)\n",
        "plt.yticks(fontsize=12)\n",
        "plt.xticks(fontsize=12)\n",
        "plt.title(\"MarketingFlags Across Category and Love\",fontsize=18)"
      ],
      "execution_count": null,
      "outputs": [
        {
          "output_type": "execute_result",
          "data": {
            "text/plain": [
              "Text(0.5, 1.0, 'MarketingFlags Across Category and Love')"
            ]
          },
          "metadata": {},
          "execution_count": 167
        },
        {
          "output_type": "display_data",
          "data": {
            "image/png": "[encoded data removed]",
            "text/plain": [
              "<Figure size 1152x576 with 1 Axes>"
            ]
          },
          "metadata": {
            "needs_background": "light"
          }
        }
      ]
    },
    {
      "cell_type": "markdown",
      "metadata": {
        "id": "egmcrxYRlWXJ"
      },
      "source": [
        "## Apakah kategori produk yang ekslusif adalah produk yang mahal (diatas harga rata-rata keseluruhan produk)?\n",
        "Produk yang ekslusif bukanlah produk yang mahal **dan produknya kebanyakan diisi oleh brand sephora sendiri.**"
      ]
    },
    {
      "cell_type": "code",
      "metadata": {
        "colab": {
          "base_uri": "https://localhost:8080/",
          "height": 414
        },
        "id": "LoAFlXKnmGPg",
        "outputId": "e0cd90c6-e8d4-4032-ff5f-c0d438f9ff31"
      },
      "source": [
        "prod_exc=df[['category','exclusive','price']]\n",
        "prod_exc=prod_exc.groupby(['category','exclusive'])['price'].sum().reset_index().sort_values(by='price',ascending=False).reset_index(drop=True)\n",
        "prod_exc"
      ],
      "execution_count": null,
      "outputs": [
        {
          "output_type": "execute_result",
          "data": {
            "text/html": [
              "<div>\n",
              "<style scoped>\n",
              "    .dataframe tbody tr th:only-of-type {\n",
              "        vertical-align: middle;\n",
              "    }\n",
              "\n",
              "    .dataframe tbody tr th {\n",
              "        vertical-align: top;\n",
              "    }\n",
              "\n",
              "    .dataframe thead th {\n",
              "        text-align: right;\n",
              "    }\n",
              "</style>\n",
              "<table border=\"1\" class=\"dataframe\">\n",
              "  <thead>\n",
              "    <tr style=\"text-align: right;\">\n",
              "      <th></th>\n",
              "      <th>category</th>\n",
              "      <th>exclusive</th>\n",
              "      <th>price</th>\n",
              "    </tr>\n",
              "  </thead>\n",
              "  <tbody>\n",
              "    <tr>\n",
              "      <th>0</th>\n",
              "      <td>Moisturizers</td>\n",
              "      <td>0</td>\n",
              "      <td>7525.0</td>\n",
              "    </tr>\n",
              "    <tr>\n",
              "      <th>1</th>\n",
              "      <td>Perfume</td>\n",
              "      <td>0</td>\n",
              "      <td>5782.0</td>\n",
              "    </tr>\n",
              "    <tr>\n",
              "      <th>2</th>\n",
              "      <td>Face Serums</td>\n",
              "      <td>0</td>\n",
              "      <td>4561.0</td>\n",
              "    </tr>\n",
              "    <tr>\n",
              "      <th>3</th>\n",
              "      <td>Eye Creams &amp; Treatments</td>\n",
              "      <td>0</td>\n",
              "      <td>4378.5</td>\n",
              "    </tr>\n",
              "    <tr>\n",
              "      <th>4</th>\n",
              "      <td>Face Wash &amp; Cleansers</td>\n",
              "      <td>0</td>\n",
              "      <td>3424.0</td>\n",
              "    </tr>\n",
              "    <tr>\n",
              "      <th>...</th>\n",
              "      <td>...</td>\n",
              "      <td>...</td>\n",
              "      <td>...</td>\n",
              "    </tr>\n",
              "    <tr>\n",
              "      <th>236</th>\n",
              "      <td>Facial Cleansing Brushes</td>\n",
              "      <td>1</td>\n",
              "      <td>10.0</td>\n",
              "    </tr>\n",
              "    <tr>\n",
              "      <th>237</th>\n",
              "      <td>Curling Irons</td>\n",
              "      <td>0</td>\n",
              "      <td>10.0</td>\n",
              "    </tr>\n",
              "    <tr>\n",
              "      <th>238</th>\n",
              "      <td>no category</td>\n",
              "      <td>1</td>\n",
              "      <td>10.0</td>\n",
              "    </tr>\n",
              "    <tr>\n",
              "      <th>239</th>\n",
              "      <td>Spa Tools</td>\n",
              "      <td>1</td>\n",
              "      <td>9.0</td>\n",
              "    </tr>\n",
              "    <tr>\n",
              "      <th>240</th>\n",
              "      <td>Hair Removal</td>\n",
              "      <td>1</td>\n",
              "      <td>9.0</td>\n",
              "    </tr>\n",
              "  </tbody>\n",
              "</table>\n",
              "<p>241 rows × 3 columns</p>\n",
              "</div>"
            ],
            "text/plain": [
              "                     category  exclusive   price\n",
              "0                Moisturizers          0  7525.0\n",
              "1                     Perfume          0  5782.0\n",
              "2                 Face Serums          0  4561.0\n",
              "3     Eye Creams & Treatments          0  4378.5\n",
              "4       Face Wash & Cleansers          0  3424.0\n",
              "..                        ...        ...     ...\n",
              "236  Facial Cleansing Brushes          1    10.0\n",
              "237             Curling Irons          0    10.0\n",
              "238               no category          1    10.0\n",
              "239                 Spa Tools          1     9.0\n",
              "240              Hair Removal          1     9.0\n",
              "\n",
              "[241 rows x 3 columns]"
            ]
          },
          "metadata": {},
          "execution_count": 168
        }
      ]
    },
    {
      "cell_type": "code",
      "metadata": {
        "colab": {
          "base_uri": "https://localhost:8080/",
          "height": 78
        },
        "id": "avMfkUKln8dE",
        "outputId": "cd2ad8b6-4cf0-461b-a30d-8829a20958c8"
      },
      "source": [
        "#Memmisahkan antara yang ekslusif dengan yang bukan untuk dibandingkan\n",
        "bukan_ekslusif=prod_exc[prod_exc['exclusive'].isin([0])]\n",
        "ekslusif0=bukan_ekslusif.groupby(['exclusive'])['price'].sum().reset_index()\n",
        "ekslusif0['mean']=bukan_ekslusif['price'].mean()\n",
        "ekslusif0"
      ],
      "execution_count": null,
      "outputs": [
        {
          "output_type": "execute_result",
          "data": {
            "text/html": [
              "<div>\n",
              "<style scoped>\n",
              "    .dataframe tbody tr th:only-of-type {\n",
              "        vertical-align: middle;\n",
              "    }\n",
              "\n",
              "    .dataframe tbody tr th {\n",
              "        vertical-align: top;\n",
              "    }\n",
              "\n",
              "    .dataframe thead th {\n",
              "        text-align: right;\n",
              "    }\n",
              "</style>\n",
              "<table border=\"1\" class=\"dataframe\">\n",
              "  <thead>\n",
              "    <tr style=\"text-align: right;\">\n",
              "      <th></th>\n",
              "      <th>exclusive</th>\n",
              "      <th>price</th>\n",
              "      <th>mean</th>\n",
              "    </tr>\n",
              "  </thead>\n",
              "  <tbody>\n",
              "    <tr>\n",
              "      <th>0</th>\n",
              "      <td>0</td>\n",
              "      <td>104179.93</td>\n",
              "      <td>801.384077</td>\n",
              "    </tr>\n",
              "  </tbody>\n",
              "</table>\n",
              "</div>"
            ],
            "text/plain": [
              "   exclusive      price        mean\n",
              "0          0  104179.93  801.384077"
            ]
          },
          "metadata": {},
          "execution_count": 169
        }
      ]
    },
    {
      "cell_type": "code",
      "metadata": {
        "colab": {
          "base_uri": "https://localhost:8080/",
          "height": 78
        },
        "id": "9RLgyAWq6R8b",
        "outputId": "04138e00-3113-4fc4-f2ee-2c20c6eed808"
      },
      "source": [
        "#Memmisahkan antara yang ekslusif dengan yang bukan untuk dibandingkan\n",
        "benar_ekslusif=prod_exc[prod_exc['exclusive'].isin([1])]\n",
        "ekslusif1=benar_ekslusif.groupby(['exclusive'])['price'].sum().reset_index()\n",
        "ekslusif1['mean']=benar_ekslusif['price'].mean()\n",
        "ekslusif1"
      ],
      "execution_count": null,
      "outputs": [
        {
          "output_type": "execute_result",
          "data": {
            "text/html": [
              "<div>\n",
              "<style scoped>\n",
              "    .dataframe tbody tr th:only-of-type {\n",
              "        vertical-align: middle;\n",
              "    }\n",
              "\n",
              "    .dataframe tbody tr th {\n",
              "        vertical-align: top;\n",
              "    }\n",
              "\n",
              "    .dataframe thead th {\n",
              "        text-align: right;\n",
              "    }\n",
              "</style>\n",
              "<table border=\"1\" class=\"dataframe\">\n",
              "  <thead>\n",
              "    <tr style=\"text-align: right;\">\n",
              "      <th></th>\n",
              "      <th>exclusive</th>\n",
              "      <th>price</th>\n",
              "      <th>mean</th>\n",
              "    </tr>\n",
              "  </thead>\n",
              "  <tbody>\n",
              "    <tr>\n",
              "      <th>0</th>\n",
              "      <td>1</td>\n",
              "      <td>33528.32</td>\n",
              "      <td>302.056937</td>\n",
              "    </tr>\n",
              "  </tbody>\n",
              "</table>\n",
              "</div>"
            ],
            "text/plain": [
              "   exclusive     price        mean\n",
              "0          1  33528.32  302.056937"
            ]
          },
          "metadata": {},
          "execution_count": 170
        }
      ]
    },
    {
      "cell_type": "code",
      "metadata": {
        "colab": {
          "base_uri": "https://localhost:8080/",
          "height": 110
        },
        "id": "UVCENQnb7_vZ",
        "outputId": "314e34f0-364a-4734-ae17-e0b87920fdb3"
      },
      "source": [
        "#Menggabungkan ekslusif untuk di plot\n",
        "plot_ekslusif=ekslusif0.append(ekslusif1, ignore_index=True)\n",
        "plot_ekslusif"
      ],
      "execution_count": null,
      "outputs": [
        {
          "output_type": "execute_result",
          "data": {
            "text/html": [
              "<div>\n",
              "<style scoped>\n",
              "    .dataframe tbody tr th:only-of-type {\n",
              "        vertical-align: middle;\n",
              "    }\n",
              "\n",
              "    .dataframe tbody tr th {\n",
              "        vertical-align: top;\n",
              "    }\n",
              "\n",
              "    .dataframe thead th {\n",
              "        text-align: right;\n",
              "    }\n",
              "</style>\n",
              "<table border=\"1\" class=\"dataframe\">\n",
              "  <thead>\n",
              "    <tr style=\"text-align: right;\">\n",
              "      <th></th>\n",
              "      <th>exclusive</th>\n",
              "      <th>price</th>\n",
              "      <th>mean</th>\n",
              "    </tr>\n",
              "  </thead>\n",
              "  <tbody>\n",
              "    <tr>\n",
              "      <th>0</th>\n",
              "      <td>0</td>\n",
              "      <td>104179.93</td>\n",
              "      <td>801.384077</td>\n",
              "    </tr>\n",
              "    <tr>\n",
              "      <th>1</th>\n",
              "      <td>1</td>\n",
              "      <td>33528.32</td>\n",
              "      <td>302.056937</td>\n",
              "    </tr>\n",
              "  </tbody>\n",
              "</table>\n",
              "</div>"
            ],
            "text/plain": [
              "   exclusive      price        mean\n",
              "0          0  104179.93  801.384077\n",
              "1          1   33528.32  302.056937"
            ]
          },
          "metadata": {},
          "execution_count": 171
        }
      ]
    },
    {
      "cell_type": "code",
      "metadata": {
        "colab": {
          "base_uri": "https://localhost:8080/",
          "height": 110
        },
        "id": "LHWYu6nxCPj4",
        "outputId": "8d93365d-8f29-4d33-8c4b-fcb26d8de71b"
      },
      "source": [
        "plot_ekslusif['exclusive']=plot_ekslusif['exclusive'].apply(lambda x : \"Not Exclusive\" if x==0 else \"Exclusive\")\n",
        "plot_ekslusif"
      ],
      "execution_count": null,
      "outputs": [
        {
          "output_type": "execute_result",
          "data": {
            "text/html": [
              "<div>\n",
              "<style scoped>\n",
              "    .dataframe tbody tr th:only-of-type {\n",
              "        vertical-align: middle;\n",
              "    }\n",
              "\n",
              "    .dataframe tbody tr th {\n",
              "        vertical-align: top;\n",
              "    }\n",
              "\n",
              "    .dataframe thead th {\n",
              "        text-align: right;\n",
              "    }\n",
              "</style>\n",
              "<table border=\"1\" class=\"dataframe\">\n",
              "  <thead>\n",
              "    <tr style=\"text-align: right;\">\n",
              "      <th></th>\n",
              "      <th>exclusive</th>\n",
              "      <th>price</th>\n",
              "      <th>mean</th>\n",
              "    </tr>\n",
              "  </thead>\n",
              "  <tbody>\n",
              "    <tr>\n",
              "      <th>0</th>\n",
              "      <td>Not Exclusive</td>\n",
              "      <td>104179.93</td>\n",
              "      <td>801.384077</td>\n",
              "    </tr>\n",
              "    <tr>\n",
              "      <th>1</th>\n",
              "      <td>Exclusive</td>\n",
              "      <td>33528.32</td>\n",
              "      <td>302.056937</td>\n",
              "    </tr>\n",
              "  </tbody>\n",
              "</table>\n",
              "</div>"
            ],
            "text/plain": [
              "       exclusive      price        mean\n",
              "0  Not Exclusive  104179.93  801.384077\n",
              "1      Exclusive   33528.32  302.056937"
            ]
          },
          "metadata": {},
          "execution_count": 172
        }
      ]
    },
    {
      "cell_type": "code",
      "metadata": {
        "colab": {
          "base_uri": "https://localhost:8080/",
          "height": 541
        },
        "id": "CvUCOc0Q8sXy",
        "outputId": "bf87f084-a1d4-4010-d200-bb6c0439d3a2"
      },
      "source": [
        "plt.figure(figsize=(16, 8))\n",
        "sns.barplot(\n",
        "    y=\"mean\",\n",
        "    x=\"exclusive\",\n",
        "    data=plot_ekslusif)\n",
        "\n",
        "\n",
        "plt.xlabel(\"Product Exclusive\",fontsize=14)\n",
        "plt.ylabel(\"Mean of Price\",fontsize=14)\n",
        "plt.yticks(fontsize=12)\n",
        "plt.xticks(fontsize=12)\n",
        "plt.title(\"Mean of Price Product Exclusive vs Mean of Price Product not Exclusive\",fontsize=18)\n",
        "\n"
      ],
      "execution_count": null,
      "outputs": [
        {
          "output_type": "execute_result",
          "data": {
            "text/plain": [
              "Text(0.5, 1.0, 'Mean of Price Product Exclusive vs Mean of Price Product not Exclusive')"
            ]
          },
          "metadata": {},
          "execution_count": 173
        },
        {
          "output_type": "display_data",
          "data": {
            "image/png": "[encoded data removed]",
            "text/plain": [
              "<Figure size 1152x576 with 1 Axes>"
            ]
          },
          "metadata": {
            "needs_background": "light"
          }
        }
      ]
    },
    {
      "cell_type": "code",
      "metadata": {
        "colab": {
          "base_uri": "https://localhost:8080/",
          "height": 414
        },
        "id": "CKtAB4TYE9P_",
        "outputId": "689fef1c-0713-4285-a7c9-bf503335f66e"
      },
      "source": [
        "evid_exc=df[['brand','exclusive']]\n",
        "evid_exc[evid_exc['exclusive'].isin([1])].value_counts().reset_index()"
      ],
      "execution_count": null,
      "outputs": [
        {
          "output_type": "execute_result",
          "data": {
            "text/html": [
              "<div>\n",
              "<style scoped>\n",
              "    .dataframe tbody tr th:only-of-type {\n",
              "        vertical-align: middle;\n",
              "    }\n",
              "\n",
              "    .dataframe tbody tr th {\n",
              "        vertical-align: top;\n",
              "    }\n",
              "\n",
              "    .dataframe thead th {\n",
              "        text-align: right;\n",
              "    }\n",
              "</style>\n",
              "<table border=\"1\" class=\"dataframe\">\n",
              "  <thead>\n",
              "    <tr style=\"text-align: right;\">\n",
              "      <th></th>\n",
              "      <th>brand</th>\n",
              "      <th>exclusive</th>\n",
              "      <th>0</th>\n",
              "    </tr>\n",
              "  </thead>\n",
              "  <tbody>\n",
              "    <tr>\n",
              "      <th>0</th>\n",
              "      <td>SEPHORA COLLECTION</td>\n",
              "      <td>1</td>\n",
              "      <td>269</td>\n",
              "    </tr>\n",
              "    <tr>\n",
              "      <th>1</th>\n",
              "      <td>MAKE UP FOR EVER</td>\n",
              "      <td>1</td>\n",
              "      <td>61</td>\n",
              "    </tr>\n",
              "    <tr>\n",
              "      <th>2</th>\n",
              "      <td>Kérastase</td>\n",
              "      <td>1</td>\n",
              "      <td>40</td>\n",
              "    </tr>\n",
              "    <tr>\n",
              "      <th>3</th>\n",
              "      <td>innisfree</td>\n",
              "      <td>1</td>\n",
              "      <td>32</td>\n",
              "    </tr>\n",
              "    <tr>\n",
              "      <th>4</th>\n",
              "      <td>tarte</td>\n",
              "      <td>1</td>\n",
              "      <td>23</td>\n",
              "    </tr>\n",
              "    <tr>\n",
              "      <th>...</th>\n",
              "      <td>...</td>\n",
              "      <td>...</td>\n",
              "      <td>...</td>\n",
              "    </tr>\n",
              "    <tr>\n",
              "      <th>148</th>\n",
              "      <td>Narciso Rodriguez</td>\n",
              "      <td>1</td>\n",
              "      <td>1</td>\n",
              "    </tr>\n",
              "    <tr>\n",
              "      <th>149</th>\n",
              "      <td>SUNDAY RILEY</td>\n",
              "      <td>1</td>\n",
              "      <td>1</td>\n",
              "    </tr>\n",
              "    <tr>\n",
              "      <th>150</th>\n",
              "      <td>DevaCurl</td>\n",
              "      <td>1</td>\n",
              "      <td>1</td>\n",
              "    </tr>\n",
              "    <tr>\n",
              "      <th>151</th>\n",
              "      <td>IGK</td>\n",
              "      <td>1</td>\n",
              "      <td>1</td>\n",
              "    </tr>\n",
              "    <tr>\n",
              "      <th>152</th>\n",
              "      <td>AMOREPACIFIC</td>\n",
              "      <td>1</td>\n",
              "      <td>1</td>\n",
              "    </tr>\n",
              "  </tbody>\n",
              "</table>\n",
              "<p>153 rows × 3 columns</p>\n",
              "</div>"
            ],
            "text/plain": [
              "                  brand  exclusive    0\n",
              "0    SEPHORA COLLECTION          1  269\n",
              "1      MAKE UP FOR EVER          1   61\n",
              "2             Kérastase          1   40\n",
              "3             innisfree          1   32\n",
              "4                 tarte          1   23\n",
              "..                  ...        ...  ...\n",
              "148   Narciso Rodriguez          1    1\n",
              "149        SUNDAY RILEY          1    1\n",
              "150            DevaCurl          1    1\n",
              "151                 IGK          1    1\n",
              "152        AMOREPACIFIC          1    1\n",
              "\n",
              "[153 rows x 3 columns]"
            ]
          },
          "metadata": {},
          "execution_count": 174
        }
      ]
    },
    {
      "cell_type": "code",
      "metadata": {
        "colab": {
          "base_uri": "https://localhost:8080/",
          "height": 414
        },
        "id": "0yQ-DdjrLL-l",
        "outputId": "1dfdb9e4-e4ce-48e0-d7b4-6fcdf99c10e8"
      },
      "source": [
        "evid_exc[evid_exc['exclusive'].isin([0])].value_counts().reset_index()"
      ],
      "execution_count": null,
      "outputs": [
        {
          "output_type": "execute_result",
          "data": {
            "text/html": [
              "<div>\n",
              "<style scoped>\n",
              "    .dataframe tbody tr th:only-of-type {\n",
              "        vertical-align: middle;\n",
              "    }\n",
              "\n",
              "    .dataframe tbody tr th {\n",
              "        vertical-align: top;\n",
              "    }\n",
              "\n",
              "    .dataframe thead th {\n",
              "        text-align: right;\n",
              "    }\n",
              "</style>\n",
              "<table border=\"1\" class=\"dataframe\">\n",
              "  <thead>\n",
              "    <tr style=\"text-align: right;\">\n",
              "      <th></th>\n",
              "      <th>brand</th>\n",
              "      <th>exclusive</th>\n",
              "      <th>0</th>\n",
              "    </tr>\n",
              "  </thead>\n",
              "  <tbody>\n",
              "    <tr>\n",
              "      <th>0</th>\n",
              "      <td>CLINIQUE</td>\n",
              "      <td>0</td>\n",
              "      <td>85</td>\n",
              "    </tr>\n",
              "    <tr>\n",
              "      <th>1</th>\n",
              "      <td>Kiehl's Since 1851</td>\n",
              "      <td>0</td>\n",
              "      <td>75</td>\n",
              "    </tr>\n",
              "    <tr>\n",
              "      <th>2</th>\n",
              "      <td>Bumble and bumble</td>\n",
              "      <td>0</td>\n",
              "      <td>70</td>\n",
              "    </tr>\n",
              "    <tr>\n",
              "      <th>3</th>\n",
              "      <td>Fresh</td>\n",
              "      <td>0</td>\n",
              "      <td>60</td>\n",
              "    </tr>\n",
              "    <tr>\n",
              "      <th>4</th>\n",
              "      <td>philosophy</td>\n",
              "      <td>0</td>\n",
              "      <td>50</td>\n",
              "    </tr>\n",
              "    <tr>\n",
              "      <th>...</th>\n",
              "      <td>...</td>\n",
              "      <td>...</td>\n",
              "      <td>...</td>\n",
              "    </tr>\n",
              "    <tr>\n",
              "      <th>221</th>\n",
              "      <td>MDSolarSciences</td>\n",
              "      <td>0</td>\n",
              "      <td>1</td>\n",
              "    </tr>\n",
              "    <tr>\n",
              "      <th>222</th>\n",
              "      <td>Madam C.J. Walker Beauty Culture</td>\n",
              "      <td>0</td>\n",
              "      <td>1</td>\n",
              "    </tr>\n",
              "    <tr>\n",
              "      <th>223</th>\n",
              "      <td>Marc Jacobs Fragrances</td>\n",
              "      <td>0</td>\n",
              "      <td>1</td>\n",
              "    </tr>\n",
              "    <tr>\n",
              "      <th>224</th>\n",
              "      <td>Mario Badescu</td>\n",
              "      <td>0</td>\n",
              "      <td>1</td>\n",
              "    </tr>\n",
              "    <tr>\n",
              "      <th>225</th>\n",
              "      <td>8Greens</td>\n",
              "      <td>0</td>\n",
              "      <td>1</td>\n",
              "    </tr>\n",
              "  </tbody>\n",
              "</table>\n",
              "<p>226 rows × 3 columns</p>\n",
              "</div>"
            ],
            "text/plain": [
              "                                brand  exclusive   0\n",
              "0                            CLINIQUE          0  85\n",
              "1                  Kiehl's Since 1851          0  75\n",
              "2                   Bumble and bumble          0  70\n",
              "3                               Fresh          0  60\n",
              "4                          philosophy          0  50\n",
              "..                                ...        ...  ..\n",
              "221                   MDSolarSciences          0   1\n",
              "222  Madam C.J. Walker Beauty Culture          0   1\n",
              "223            Marc Jacobs Fragrances          0   1\n",
              "224                     Mario Badescu          0   1\n",
              "225                           8Greens          0   1\n",
              "\n",
              "[226 rows x 3 columns]"
            ]
          },
          "metadata": {},
          "execution_count": 175
        }
      ]
    },
    {
      "cell_type": "code",
      "metadata": {
        "colab": {
          "base_uri": "https://localhost:8080/",
          "height": 202
        },
        "id": "Rd4vi8ioMejM",
        "outputId": "5bb33abf-a4fa-4a81-97d4-e129d149b99d"
      },
      "source": [
        "plot_evidence=evid_exc[evid_exc['exclusive'].isin([1])].value_counts().reset_index()\n",
        "plot_evidence.rename(columns = {0:'Total_Produk'}, inplace = True)\n",
        "plot_evidence=plot_evidence.head(5)\n",
        "plot_evidence"
      ],
      "execution_count": null,
      "outputs": [
        {
          "output_type": "execute_result",
          "data": {
            "text/html": [
              "<div>\n",
              "<style scoped>\n",
              "    .dataframe tbody tr th:only-of-type {\n",
              "        vertical-align: middle;\n",
              "    }\n",
              "\n",
              "    .dataframe tbody tr th {\n",
              "        vertical-align: top;\n",
              "    }\n",
              "\n",
              "    .dataframe thead th {\n",
              "        text-align: right;\n",
              "    }\n",
              "</style>\n",
              "<table border=\"1\" class=\"dataframe\">\n",
              "  <thead>\n",
              "    <tr style=\"text-align: right;\">\n",
              "      <th></th>\n",
              "      <th>brand</th>\n",
              "      <th>exclusive</th>\n",
              "      <th>Total_Produk</th>\n",
              "    </tr>\n",
              "  </thead>\n",
              "  <tbody>\n",
              "    <tr>\n",
              "      <th>0</th>\n",
              "      <td>SEPHORA COLLECTION</td>\n",
              "      <td>1</td>\n",
              "      <td>269</td>\n",
              "    </tr>\n",
              "    <tr>\n",
              "      <th>1</th>\n",
              "      <td>MAKE UP FOR EVER</td>\n",
              "      <td>1</td>\n",
              "      <td>61</td>\n",
              "    </tr>\n",
              "    <tr>\n",
              "      <th>2</th>\n",
              "      <td>Kérastase</td>\n",
              "      <td>1</td>\n",
              "      <td>40</td>\n",
              "    </tr>\n",
              "    <tr>\n",
              "      <th>3</th>\n",
              "      <td>innisfree</td>\n",
              "      <td>1</td>\n",
              "      <td>32</td>\n",
              "    </tr>\n",
              "    <tr>\n",
              "      <th>4</th>\n",
              "      <td>tarte</td>\n",
              "      <td>1</td>\n",
              "      <td>23</td>\n",
              "    </tr>\n",
              "  </tbody>\n",
              "</table>\n",
              "</div>"
            ],
            "text/plain": [
              "                brand  exclusive  Total_Produk\n",
              "0  SEPHORA COLLECTION          1           269\n",
              "1    MAKE UP FOR EVER          1            61\n",
              "2           Kérastase          1            40\n",
              "3           innisfree          1            32\n",
              "4               tarte          1            23"
            ]
          },
          "metadata": {},
          "execution_count": 176
        }
      ]
    },
    {
      "cell_type": "code",
      "metadata": {
        "colab": {
          "base_uri": "https://localhost:8080/",
          "height": 541
        },
        "id": "sWAjYUbrNQMb",
        "outputId": "ef81a181-6e50-4d7a-de0d-4b4870a06397"
      },
      "source": [
        "plt.figure(figsize=(16, 8))\n",
        "sns.barplot(\n",
        "    y=\"Total_Produk\",\n",
        "    x=\"brand\",\n",
        "    data=plot_evidence)\n",
        "\n",
        "\n",
        "plt.xlabel(\"Brand Product\",fontsize=14)\n",
        "plt.ylabel(\"Total Product\",fontsize=14)\n",
        "plt.yticks(fontsize=12)\n",
        "plt.xticks(fontsize=12)\n",
        "plt.title(\"Total Exclusive Products each Brand\",fontsize=18)\n",
        "\n"
      ],
      "execution_count": null,
      "outputs": [
        {
          "output_type": "execute_result",
          "data": {
            "text/plain": [
              "Text(0.5, 1.0, 'Total Exclusive Products each Brand')"
            ]
          },
          "metadata": {},
          "execution_count": 177
        },
        {
          "output_type": "display_data",
          "data": {
            "image/png": "[encoded data removed]",
            "text/plain": [
              "<Figure size 1152x576 with 1 Axes>"
            ]
          },
          "metadata": {
            "needs_background": "light"
          }
        }
      ]
    },
    {
      "cell_type": "markdown",
      "metadata": {
        "id": "fJrbXeNlP7Do"
      },
      "source": [
        "# Summary about Sephora\n",
        "* Jika dirata-ratakan produk yang dijual di e-commerce ada **dikisaran harga 20 sampai 50 dollar**.\n",
        "* Jika dirata-ratakan **produk yang dijual** di e-commerce **setidaknya direview oleh kurang dari 100 customer**.\n",
        "* **Produk yang dijual** di e-commerce sudah **mencapai lebih dari 2,3 juta**.\n",
        "* 5 Kategori Produk yang paling disukai oleh customer adalah sebagai berikut:\n",
        "  1. **Lipstick** dengan total love nya mencapai 1.610.700\n",
        "  2. **Moisturizers** dengan total love nya mencapai 1.286.642\n",
        "  3. **Face Masks** dengan total love nya mencapai 1.245.872\n",
        "  4. **Face Brushes** dengan total love nya mencapai 1.236.776\n",
        "  5. **Eye Palettes** dengan total love nya mencapai 1.135.900\n",
        "* 5 Kategori Produk yang paling banyak review oleh customer adalah sebagai berikut:\n",
        "  1. **Moisturizers** dengan total review nya mencapai 27.168\n",
        "  2. **Face Serums** dengan total review nya mencapai 20.494\n",
        "  3. **Facewash & Cleansers** dengan total review nya mencapai 17.629\n",
        "  4. **Eye Creams & Treatments** dengan total review nya mencapai 16.116\n",
        "  5. **Face Masks** dengan total review nya mencapai 16.027\n",
        "* Produk yang paling banyak **mendapatkan review baik adalah TOUCHE ECLAT All-In-One Glow** dari brand Yves Saint Laurent yang termasuk keadalam kategori Tinted Moisturizer.\n",
        "* Sedangkan secara keseluruhan **berdasarkan kategori produk**, yang paling banyak mendapatkan review baik dan disukai oleh customer adalah **face serums** dengan total review baik sebanyak 1054 dan love sebanyak 43000.\n",
        "* Kategori produk yang paling banyak disukai adalah **kategori produk yang harganya terjangkau**. Sedangkan kategori produk yang paling banyak direview merupakan produk yang harganya mahal.\n",
        "* Kategori produk yang **diberi strategi marketing** adalah **kategori produk yang paling banyak disukai oleh customer**. Tetapi dalam kategori tersebut ada produk yang tidak diberi strategi marketing dan jumlah nya lebih banyak.\n",
        "* **Produk yang ekslusif bukanlah produk yang mahal** dan lebih banyak diisi oleh brand sephora sendiri."
      ]
    },
    {
      "cell_type": "markdown",
      "metadata": {
        "id": "dgnb5RLhOw5k"
      },
      "source": [
        "# Recommendation"
      ]
    },
    {
      "cell_type": "code",
      "metadata": {
        "colab": {
          "base_uri": "https://localhost:8080/",
          "height": 355
        },
        "id": "NwDsUgX4r8zq",
        "outputId": "93eb30cb-4296-460b-95a3-8aa62d3ec980"
      },
      "source": [
        "#10 produk yang memiliki review yang baik dan disukai\n",
        "review[(review['rating']>=4.203371)&\n",
        "       (review['number_of_reviews']>=111.583122)&\n",
        "       (review['love']>=8808.053979)].sort_values(by='number_of_reviews',ascending=False).reset_index(drop=True)\n",
        "review_baik = review_baik.head(10)\n",
        "review_baik"
      ],
      "execution_count": null,
      "outputs": [
        {
          "output_type": "execute_result",
          "data": {
            "text/html": [
              "<div>\n",
              "<style scoped>\n",
              "    .dataframe tbody tr th:only-of-type {\n",
              "        vertical-align: middle;\n",
              "    }\n",
              "\n",
              "    .dataframe tbody tr th {\n",
              "        vertical-align: top;\n",
              "    }\n",
              "\n",
              "    .dataframe thead th {\n",
              "        text-align: right;\n",
              "    }\n",
              "</style>\n",
              "<table border=\"1\" class=\"dataframe\">\n",
              "  <thead>\n",
              "    <tr style=\"text-align: right;\">\n",
              "      <th></th>\n",
              "      <th>brand</th>\n",
              "      <th>name</th>\n",
              "      <th>category</th>\n",
              "      <th>rating</th>\n",
              "      <th>number_of_reviews</th>\n",
              "      <th>love</th>\n",
              "    </tr>\n",
              "  </thead>\n",
              "  <tbody>\n",
              "    <tr>\n",
              "      <th>0</th>\n",
              "      <td>Yves Saint Laurent</td>\n",
              "      <td>TOUCHE ECLAT All-In-One Glow</td>\n",
              "      <td>Tinted Moisturizer</td>\n",
              "      <td>4.5</td>\n",
              "      <td>548</td>\n",
              "      <td>33400</td>\n",
              "    </tr>\n",
              "    <tr>\n",
              "      <th>1</th>\n",
              "      <td>Playa</td>\n",
              "      <td>Ritual Hair Oil</td>\n",
              "      <td>Hair Oil</td>\n",
              "      <td>4.5</td>\n",
              "      <td>542</td>\n",
              "      <td>10800</td>\n",
              "    </tr>\n",
              "    <tr>\n",
              "      <th>2</th>\n",
              "      <td>PAT McGRATH LABS</td>\n",
              "      <td>Skin Fetish: Sublime Perfection Concealer</td>\n",
              "      <td>Concealer</td>\n",
              "      <td>4.5</td>\n",
              "      <td>539</td>\n",
              "      <td>22000</td>\n",
              "    </tr>\n",
              "    <tr>\n",
              "      <th>3</th>\n",
              "      <td>SEPHORA COLLECTION</td>\n",
              "      <td>Illuminate Palette</td>\n",
              "      <td>Highlighter</td>\n",
              "      <td>4.5</td>\n",
              "      <td>538</td>\n",
              "      <td>35200</td>\n",
              "    </tr>\n",
              "    <tr>\n",
              "      <th>4</th>\n",
              "      <td>Glow Recipe</td>\n",
              "      <td>Watermelon Glow Lip Pop</td>\n",
              "      <td>Lip Balms &amp; Treatments</td>\n",
              "      <td>4.5</td>\n",
              "      <td>537</td>\n",
              "      <td>20800</td>\n",
              "    </tr>\n",
              "    <tr>\n",
              "      <th>5</th>\n",
              "      <td>Caudalie</td>\n",
              "      <td>Moisturizing Toner</td>\n",
              "      <td>Toners</td>\n",
              "      <td>4.5</td>\n",
              "      <td>533</td>\n",
              "      <td>35700</td>\n",
              "    </tr>\n",
              "    <tr>\n",
              "      <th>6</th>\n",
              "      <td>Dr. Jart+</td>\n",
              "      <td>Cicapair™ Tiger Grass Calming Gel Cream</td>\n",
              "      <td>Moisturizers</td>\n",
              "      <td>4.5</td>\n",
              "      <td>532</td>\n",
              "      <td>10200</td>\n",
              "    </tr>\n",
              "    <tr>\n",
              "      <th>7</th>\n",
              "      <td>Peter Thomas Roth</td>\n",
              "      <td>Retinol Fusion PM</td>\n",
              "      <td>Face Serums</td>\n",
              "      <td>4.5</td>\n",
              "      <td>530</td>\n",
              "      <td>20900</td>\n",
              "    </tr>\n",
              "    <tr>\n",
              "      <th>8</th>\n",
              "      <td>Hourglass</td>\n",
              "      <td>Arch Brow Micro Sculpting Pencil</td>\n",
              "      <td>Eyebrow</td>\n",
              "      <td>4.5</td>\n",
              "      <td>524</td>\n",
              "      <td>12100</td>\n",
              "    </tr>\n",
              "    <tr>\n",
              "      <th>9</th>\n",
              "      <td>Kate Somerville</td>\n",
              "      <td>Anti Bac Clearing Lotion</td>\n",
              "      <td>Face Serums</td>\n",
              "      <td>4.5</td>\n",
              "      <td>524</td>\n",
              "      <td>22100</td>\n",
              "    </tr>\n",
              "  </tbody>\n",
              "</table>\n",
              "</div>"
            ],
            "text/plain": [
              "                brand  ...   love\n",
              "0  Yves Saint Laurent  ...  33400\n",
              "1               Playa  ...  10800\n",
              "2    PAT McGRATH LABS  ...  22000\n",
              "3  SEPHORA COLLECTION  ...  35200\n",
              "4         Glow Recipe  ...  20800\n",
              "5            Caudalie  ...  35700\n",
              "6           Dr. Jart+  ...  10200\n",
              "7   Peter Thomas Roth  ...  20900\n",
              "8           Hourglass  ...  12100\n",
              "9     Kate Somerville  ...  22100\n",
              "\n",
              "[10 rows x 6 columns]"
            ]
          },
          "metadata": {},
          "execution_count": 178
        }
      ]
    },
    {
      "cell_type": "markdown",
      "metadata": {
        "id": "RZArhqbWiQUM"
      },
      "source": [
        "### **1. Melakukan diskon dengan limited time offer** pada produk TOUCHE ECLAT All-In-One Glow dari brand Yves Saint Laurent. karena merupakan produk yang paling banyak direview dan disukai oleh customer.\n",
        "* Atau melakukan diskon kepada produk serupa yang termasuk kedalam produk exlusive\n",
        "* Atau melakukan diskon kepada produk brand sendiri yang serupa. :D"
      ]
    },
    {
      "cell_type": "code",
      "metadata": {
        "colab": {
          "base_uri": "https://localhost:8080/",
          "height": 165
        },
        "id": "4M2e6lFq-phF",
        "outputId": "51a2a0b7-51f7-4bee-b936-7ddbd9e5d602"
      },
      "source": [
        "df[(review['brand'].isin(['Yves Saint Laurent'])) &\n",
        "   (review['category'].isin(['Tinted Moisturizer']))]"
      ],
      "execution_count": null,
      "outputs": [
        {
          "output_type": "execute_result",
          "data": {
            "text/html": [
              "<div>\n",
              "<style scoped>\n",
              "    .dataframe tbody tr th:only-of-type {\n",
              "        vertical-align: middle;\n",
              "    }\n",
              "\n",
              "    .dataframe tbody tr th {\n",
              "        vertical-align: top;\n",
              "    }\n",
              "\n",
              "    .dataframe thead th {\n",
              "        text-align: right;\n",
              "    }\n",
              "</style>\n",
              "<table border=\"1\" class=\"dataframe\">\n",
              "  <thead>\n",
              "    <tr style=\"text-align: right;\">\n",
              "      <th></th>\n",
              "      <th>id</th>\n",
              "      <th>brand</th>\n",
              "      <th>category</th>\n",
              "      <th>name</th>\n",
              "      <th>size</th>\n",
              "      <th>rating</th>\n",
              "      <th>number_of_reviews</th>\n",
              "      <th>love</th>\n",
              "      <th>price</th>\n",
              "      <th>value_price</th>\n",
              "      <th>URL</th>\n",
              "      <th>MarketingFlags</th>\n",
              "      <th>MarketingFlags_content</th>\n",
              "      <th>options</th>\n",
              "      <th>details</th>\n",
              "      <th>how_to_use</th>\n",
              "      <th>ingredients</th>\n",
              "      <th>online_only</th>\n",
              "      <th>exclusive</th>\n",
              "      <th>limited_edition</th>\n",
              "      <th>limited_time_offer</th>\n",
              "    </tr>\n",
              "  </thead>\n",
              "  <tbody>\n",
              "    <tr>\n",
              "      <th>8887</th>\n",
              "      <td>2038701</td>\n",
              "      <td>Yves Saint Laurent</td>\n",
              "      <td>Tinted Moisturizer</td>\n",
              "      <td>TOUCHE ECLAT All-In-One Glow</td>\n",
              "      <td>1.01 oz/ 30 mL</td>\n",
              "      <td>4.5</td>\n",
              "      <td>548</td>\n",
              "      <td>33400</td>\n",
              "      <td>48.0</td>\n",
              "      <td>48.0</td>\n",
              "      <td>https://www.sephora.com/product/touche-eclat-a...</td>\n",
              "      <td>1</td>\n",
              "      <td>0</td>\n",
              "      <td>no options</td>\n",
              "      <td>What it is: An oil-free moisturizer delivers a...</td>\n",
              "      <td>Suggested Usage:-For lighter coverage- squeeze...</td>\n",
              "      <td>-Hyaluronic Acid: Provides rich hydration.-Vit...</td>\n",
              "      <td>0</td>\n",
              "      <td>0</td>\n",
              "      <td>0</td>\n",
              "      <td>0</td>\n",
              "    </tr>\n",
              "  </tbody>\n",
              "</table>\n",
              "</div>"
            ],
            "text/plain": [
              "           id               brand  ... limited_edition limited_time_offer\n",
              "8887  2038701  Yves Saint Laurent  ...               0                  0\n",
              "\n",
              "[1 rows x 21 columns]"
            ]
          },
          "metadata": {},
          "execution_count": 179
        }
      ]
    },
    {
      "cell_type": "markdown",
      "metadata": {
        "id": "xA9wpsuKorBP"
      },
      "source": [
        "### **2. Membuat produk baru**, karena dari 10 produk yang mendapat review paling baik dan disukai oleh customer. Sephora belum memiliki produk hair oil dan Lip Balms & Treatments"
      ]
    },
    {
      "cell_type": "code",
      "metadata": {
        "colab": {
          "base_uri": "https://localhost:8080/",
          "height": 68
        },
        "id": "Fhi71FWixV9f",
        "outputId": "298d709a-099c-4702-f9d2-caaf1a5b391e"
      },
      "source": [
        "df[(review['brand'].isin(['SEPHORA COLLECTION'])) &\n",
        "   (review['category'].isin(['hair oil','Lip Balms & Treatments']))]"
      ],
      "execution_count": null,
      "outputs": [
        {
          "output_type": "execute_result",
          "data": {
            "text/html": [
              "<div>\n",
              "<style scoped>\n",
              "    .dataframe tbody tr th:only-of-type {\n",
              "        vertical-align: middle;\n",
              "    }\n",
              "\n",
              "    .dataframe tbody tr th {\n",
              "        vertical-align: top;\n",
              "    }\n",
              "\n",
              "    .dataframe thead th {\n",
              "        text-align: right;\n",
              "    }\n",
              "</style>\n",
              "<table border=\"1\" class=\"dataframe\">\n",
              "  <thead>\n",
              "    <tr style=\"text-align: right;\">\n",
              "      <th></th>\n",
              "      <th>id</th>\n",
              "      <th>brand</th>\n",
              "      <th>category</th>\n",
              "      <th>name</th>\n",
              "      <th>size</th>\n",
              "      <th>rating</th>\n",
              "      <th>number_of_reviews</th>\n",
              "      <th>love</th>\n",
              "      <th>price</th>\n",
              "      <th>value_price</th>\n",
              "      <th>URL</th>\n",
              "      <th>MarketingFlags</th>\n",
              "      <th>MarketingFlags_content</th>\n",
              "      <th>options</th>\n",
              "      <th>details</th>\n",
              "      <th>how_to_use</th>\n",
              "      <th>ingredients</th>\n",
              "      <th>online_only</th>\n",
              "      <th>exclusive</th>\n",
              "      <th>limited_edition</th>\n",
              "      <th>limited_time_offer</th>\n",
              "    </tr>\n",
              "  </thead>\n",
              "  <tbody>\n",
              "  </tbody>\n",
              "</table>\n",
              "</div>"
            ],
            "text/plain": [
              "Empty DataFrame\n",
              "Columns: [id, brand, category, name, size, rating, number_of_reviews, love, price, value_price, URL, MarketingFlags, MarketingFlags_content, options, details, how_to_use, ingredients, online_only, exclusive, limited_edition, limited_time_offer]\n",
              "Index: []"
            ]
          },
          "metadata": {},
          "execution_count": 180
        }
      ]
    }
  ]
}